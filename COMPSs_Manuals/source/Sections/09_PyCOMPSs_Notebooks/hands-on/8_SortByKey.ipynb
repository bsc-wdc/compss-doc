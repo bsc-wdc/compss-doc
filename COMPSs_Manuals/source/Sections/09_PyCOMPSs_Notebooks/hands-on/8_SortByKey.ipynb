{
 "cells": [
  {
   "cell_type": "markdown",
   "metadata": {
    "slideshow": {
     "slide_type": "slide"
    }
   },
   "source": [
    "# Sort by Key\n",
    "\n",
    "Algorithm that sorts the elements of a set of files and merges the partial results respecting the order."
   ]
  },
  {
   "cell_type": "markdown",
   "metadata": {
    "slideshow": {
     "slide_type": "subslide"
    }
   },
   "source": [
    "### First of all - Create a dataset\n",
    "\n",
    "This step can be avoided if the dataset already exists.\n",
    "\n",
    "If not, this code snipped creates a set of files with dictionary on each one generated randomly. Uses pickle."
   ]
  },
  {
   "cell_type": "code",
   "execution_count": 1,
   "metadata": {},
   "outputs": [],
   "source": [
    "def datasetGenerator(directory, numFiles, numPairs):\n",
    "    import random\n",
    "    import pickle\n",
    "    import os\n",
    "    if os.path.exists(directory):\n",
    "        print(\"Dataset directory already exists... Removing\")\n",
    "        import shutil\n",
    "        shutil.rmtree(directory)\n",
    "    os.makedirs(directory)\n",
    "    for f in range(numFiles):\n",
    "        fragment = {}\n",
    "        while len(fragment) < numPairs:\n",
    "            fragment[random.random()] = random.randint(0, 1000)\n",
    "        filename = 'file_' + str(f) + '.data'\n",
    "        with open(directory + '/' + filename, 'wb') as fd:\n",
    "            pickle.dump(fragment, fd)\n",
    "        print('File ' + filename + ' has been created.')"
   ]
  },
  {
   "cell_type": "code",
   "execution_count": 2,
   "metadata": {},
   "outputs": [
    {
     "name": "stdout",
     "output_type": "stream",
     "text": [
      "Dataset directory already exists... Removing\n",
      "File file_0.data has been created.\n",
      "File file_1.data has been created.\n"
     ]
    }
   ],
   "source": [
    "numFiles = 2\n",
    "numPairs = 10\n",
    "directoryName = 'mydataset'\n",
    "datasetGenerator(directoryName, numFiles, numPairs)"
   ]
  },
  {
   "cell_type": "code",
   "execution_count": 3,
   "metadata": {},
   "outputs": [
    {
     "name": "stdout",
     "output_type": "stream",
     "text": [
      "total 8\r\n",
      "-rw-r--r-- 1 user users 126 oct 30 12:48 \u001b[0m\u001b[00mfile_0.data\u001b[0m\r\n",
      "-rw-r--r-- 1 user users 126 oct 30 12:48 \u001b[00mfile_1.data\u001b[0m\r\n"
     ]
    }
   ],
   "source": [
    "# Show the files that have been created\n",
    "%ls -l $directoryName"
   ]
  },
  {
   "cell_type": "markdown",
   "metadata": {
    "slideshow": {
     "slide_type": "subslide"
    }
   },
   "source": [
    "### Algorithm definition"
   ]
  },
  {
   "cell_type": "code",
   "execution_count": 4,
   "metadata": {
    "slideshow": {
     "slide_type": "-"
    }
   },
   "outputs": [],
   "source": [
    "import pycompss.interactive as ipycompss"
   ]
  },
  {
   "cell_type": "code",
   "execution_count": 5,
   "metadata": {},
   "outputs": [
    {
     "name": "stdout",
     "output_type": "stream",
     "text": [
      "******************************************************\n",
      "*************** PyCOMPSs Interactive *****************\n",
      "******************************************************\n",
      "*          .-~~-.--.           _____       _______   *\n",
      "*         :         )         |____ \\     /  ___  \\  *\n",
      "*   .~ ~ -.\\       /.- ~~ .     ___) |    | (___) |  *\n",
      "*   >       `.   .'       <    / ___/      > ___ <   *\n",
      "*  (         .- -.         )  | |___   _  | (___) |  *\n",
      "*   `- -.-~  `- -'  ~-.- -'   |_____| |_| \\_______/  *\n",
      "*     (        :        )           _ _ .-:          *\n",
      "*      ~--.    :    .--~        .-~  .-~  }          *\n",
      "*          ~-.-^-.-~ \\_      .~  .-~   .~            *\n",
      "*                   \\ \\ '     \\ '_ _ -~              *\n",
      "*                    \\`.\\`.    //                    *\n",
      "*           . - ~ ~-.__\\`.\\`-.//                     *\n",
      "*       .-~   . - ~  }~ ~ ~-.~-.                     *\n",
      "*     .' .-~      .-~       :/~-.~-./:               *\n",
      "*    /_~_ _ . - ~                 ~-.~-._            *\n",
      "*                                     ~-.<           *\n",
      "******************************************************\n",
      "* - Starting COMPSs runtime...                       *\n",
      "* - Log path : /home/user/.COMPSs/InteractiveMode_16/\n",
      "* - PyCOMPSs Runtime started... Have fun!            *\n",
      "******************************************************\n"
     ]
    }
   ],
   "source": [
    "import os\n",
    "if 'BINDER_SERVICE_HOST' in os.environ:\n",
    "    ipycompss.start(graph=True,\n",
    "                    project_xml='../xml/project.xml',\n",
    "                    resources_xml='../xml/resources.xml')\n",
    "else:\n",
    "    ipycompss.start(graph=True, monitor=1000)"
   ]
  },
  {
   "cell_type": "code",
   "execution_count": 6,
   "metadata": {
    "slideshow": {
     "slide_type": "-"
    }
   },
   "outputs": [],
   "source": [
    "from pycompss.api.task import task\n",
    "from pycompss.api.parameter import FILE_IN"
   ]
  },
  {
   "cell_type": "code",
   "execution_count": 7,
   "metadata": {
    "slideshow": {
     "slide_type": "-"
    }
   },
   "outputs": [],
   "source": [
    "@task(returns=list, dataFile=FILE_IN)\n",
    "def sortPartition(dataFile):\n",
    "    '''\n",
    "    Reads the dataFile and sorts its content which is assumed to be a dictionary {K: V}\n",
    "    :param path: file that contains the data\n",
    "    :return: a list of (K, V) pairs sorted.\n",
    "    '''\n",
    "    import pickle\n",
    "    import operator\n",
    "    with open(dataFile, 'rb') as f:\n",
    "        data = pickle.load(f)\n",
    "    # res = sorted(data, key=lambda (k, v): k, reverse=not ascending)\n",
    "    partition_result = sorted(data.items(), key=operator.itemgetter(0), reverse=False)\n",
    "    return partition_result"
   ]
  },
  {
   "cell_type": "code",
   "execution_count": 8,
   "metadata": {
    "slideshow": {
     "slide_type": "-"
    }
   },
   "outputs": [],
   "source": [
    "@task(returns=list, priority=True)\n",
    "def reducetask(a, b):\n",
    "    '''\n",
    "    Merges two partial results (lists of (K, V) pairs) respecting the order\n",
    "    :param a: Partial result a\n",
    "    :param b: Partial result b\n",
    "    :return: The merging result sorted\n",
    "    '''\n",
    "    partial_result = []\n",
    "    i = 0\n",
    "    j = 0\n",
    "    while i < len(a) and j < len(b):\n",
    "        if a[i] < b[j]:\n",
    "            partial_result.append(a[i])\n",
    "            i += 1\n",
    "        else:\n",
    "            partial_result.append(b[j])\n",
    "            j += 1\n",
    "    if i < len(a):\n",
    "        partial_result + a[i:]\n",
    "    elif j < len(b):\n",
    "        partial_result + b[j:]\n",
    "    return partial_result"
   ]
  },
  {
   "cell_type": "code",
   "execution_count": 9,
   "metadata": {
    "slideshow": {
     "slide_type": "-"
    }
   },
   "outputs": [],
   "source": [
    "def merge_reduce(function, data):\n",
    "    import sys\n",
    "    if sys.version_info[0] >= 3:\n",
    "        import queue as Queue\n",
    "    else:\n",
    "        import Queue\n",
    "    q = Queue.Queue()\n",
    "    for i in data:\n",
    "        q.put(i)\n",
    "    while not q.empty():\n",
    "        x = q.get()\n",
    "        if not q.empty():\n",
    "            y = q.get()\n",
    "            q.put(function(x, y))\n",
    "        else:\n",
    "            return x"
   ]
  },
  {
   "cell_type": "markdown",
   "metadata": {
    "slideshow": {
     "slide_type": "subslide"
    }
   },
   "source": [
    "## MAIN\n",
    "\n",
    "Parameters (that can be configured in the following cell):\n",
    "* datasetPath: The path where the dataset is (default: the same as created previously).\n"
   ]
  },
  {
   "cell_type": "code",
   "execution_count": 10,
   "metadata": {
    "scrolled": false,
    "slideshow": {
     "slide_type": "-"
    }
   },
   "outputs": [
    {
     "name": "stdout",
     "output_type": "stream",
     "text": [
      "Found task: sortPartition\n",
      "Found task: reducetask\n",
      "Elapsed Time(s)\n",
      "3.515646457672119\n",
      "[(0.028490685387725034, 769),\n",
      " (0.03966153756806634, 755),\n",
      " (0.0717497637324217, 838),\n",
      " (0.15115084874550888, 945),\n",
      " (0.25382027698264664, 344),\n",
      " (0.39717284681887244, 399),\n",
      " (0.4173362140086345, 196),\n",
      " (0.4379081459001072, 988),\n",
      " (0.45590664753291543, 627),\n",
      " (0.4581778372790575, 978),\n",
      " (0.4759177520942124, 252),\n",
      " (0.6028200558841312, 459),\n",
      " (0.6497219843308141, 276),\n",
      " (0.6538946888317994, 443),\n",
      " (0.6677219587316088, 621),\n",
      " (0.6894412216821026, 98),\n",
      " (0.7184613627330477, 13),\n",
      " (0.7488248496080055, 754),\n",
      " (0.804045784313591, 520)]\n"
     ]
    }
   ],
   "source": [
    "import os\n",
    "import time\n",
    "from pycompss.api.api import compss_wait_on\n",
    "\n",
    "datasetPath = directoryName  # Where the dataset is\n",
    "files = []\n",
    "for f in os.listdir(datasetPath):\n",
    "    files.append(datasetPath + '/' + f)\n",
    "    \n",
    "startTime = time.time()\n",
    "\n",
    "partialSorted = []\n",
    "for f in files:\n",
    "    partialSorted.append(sortPartition(f))\n",
    "result = merge_reduce(reducetask, partialSorted)\n",
    "\n",
    "result = compss_wait_on(result)\n",
    "\n",
    "print(\"Elapsed Time(s)\")\n",
    "print(time.time() - startTime)\n",
    "import pprint\n",
    "pprint.pprint(result)"
   ]
  },
  {
   "cell_type": "code",
   "execution_count": 11,
   "metadata": {
    "slideshow": {
     "slide_type": "subslide"
    }
   },
   "outputs": [
    {
     "name": "stdout",
     "output_type": "stream",
     "text": [
      "****************************************************\n",
      "*************** STOPPING PyCOMPSs ******************\n",
      "****************************************************\n",
      "Warning: some of the variables used with PyCOMPSs may\n",
      "         have not been brought to the master.\n",
      "****************************************************\n"
     ]
    }
   ],
   "source": [
    "ipycompss.stop()"
   ]
  }
 ],
 "metadata": {
  "kernelspec": {
   "display_name": "Python 2",
   "language": "python",
   "name": "python2"
  },
  "language_info": {
   "codemirror_mode": {
    "name": "ipython",
    "version": 3
   },
   "file_extension": ".py",
   "mimetype": "text/x-python",
   "name": "python",
   "nbconvert_exporter": "python",
   "pygments_lexer": "ipython3",
   "version": "3.6.9"
  },
  "livereveal": {
   "auto_select": "code",
   "overlay": "<div class='myheader'><img height='100' align='right' src='http://www.bsc.es/actris/sites/default/files/logos/BSC-logo%201.jpg'></div>",
   "scroll": true,
   "theme": "simple",
   "transition": "slide"
  }
 },
 "nbformat": 4,
 "nbformat_minor": 1
}
