{
 "cells": [
  {
   "cell_type": "markdown",
   "metadata": {
    "collapsed": true
   },
   "source": [
    "# Wordcount Solution\n",
    "\n",
    "## Complete version"
   ]
  },
  {
   "cell_type": "code",
   "execution_count": 1,
   "metadata": {},
   "outputs": [],
   "source": [
    "import os"
   ]
  },
  {
   "cell_type": "code",
   "execution_count": 2,
   "metadata": {},
   "outputs": [],
   "source": [
    "import pycompss.interactive as ipycompss"
   ]
  },
  {
   "cell_type": "code",
   "execution_count": 3,
   "metadata": {},
   "outputs": [],
   "source": [
    "from pycompss.api.task import task"
   ]
  },
  {
   "cell_type": "code",
   "execution_count": 4,
   "metadata": {},
   "outputs": [],
   "source": [
    "from pycompss.api.parameter import *"
   ]
  },
  {
   "cell_type": "code",
   "execution_count": 5,
   "metadata": {},
   "outputs": [
    {
     "name": "stdout",
     "output_type": "stream",
     "text": [
      "********************************************************\n",
      "**************** PyCOMPSs Interactive ******************\n",
      "********************************************************\n",
      "*          .-~~-.--.           ______         ___      *\n",
      "*         :         )         |____  \\       /   |     *\n",
      "*   .~ ~ -.\\       /.- ~~ .      __) |      /_/| |     *\n",
      "*   >       `.   .'       <     |__  |         | |     *\n",
      "*  (         .- -.         )   ____) |   _     | |     *\n",
      "*   `- -.-~  `- -'  ~-.- -'   |______/  |_|    |_|     *\n",
      "*     (        :        )           _ _ .-:            *\n",
      "*      ~--.    :    .--~        .-~  .-~  }            *\n",
      "*          ~-.-^-.-~ \\_      .~  .-~   .~              *\n",
      "*                   \\ \\ '     \\ '_ _ -~                *\n",
      "*                    \\`.\\`.    //                      *\n",
      "*           . - ~ ~-.__\\`.\\`-.//                       *\n",
      "*       .-~   . - ~  }~ ~ ~-.~-.                       *\n",
      "*     .' .-~      .-~       :/~-.~-./:                 *\n",
      "*    /_~_ _ . - ~                 ~-.~-._              *\n",
      "*                                     ~-.<             *\n",
      "********************************************************\n",
      "* - Starting COMPSs runtime...                         *\n",
      "* - Log path : /home/user/.COMPSs/Interactive_21/\n",
      "* - PyCOMPSs Runtime started... Have fun!              *\n",
      "********************************************************\n"
     ]
    }
   ],
   "source": [
    "if 'BINDER_SERVICE_HOST' in os.environ:\n",
    "    ipycompss.start(graph=True, trace=True, debug=False,\n",
    "                    project_xml='../xml/project.xml',\n",
    "                    resources_xml='../xml/resources.xml')\n",
    "else:\n",
    "    ipycompss.start(graph=True, monitor=1000, trace=True, debug=False)"
   ]
  },
  {
   "cell_type": "code",
   "execution_count": 6,
   "metadata": {},
   "outputs": [],
   "source": [
    "@task(returns=list)\n",
    "def read_file(file_path):\n",
    "    \"\"\" Read a file and return a list of words.\n",
    "    :param file_path: file's path\n",
    "    :return: list of words\n",
    "    \"\"\"\n",
    "    data = []\n",
    "    with open(file_path, 'r') as f:\n",
    "        for line in f:\n",
    "            data += line.split()\n",
    "    return data"
   ]
  },
  {
   "cell_type": "code",
   "execution_count": 7,
   "metadata": {},
   "outputs": [],
   "source": [
    "@task(returns=dict)\n",
    "def wordCount(data):\n",
    "    \"\"\" Construct a frequency word dictorionary from a list of words.\n",
    "    :param data: a list of words\n",
    "    :return: a dictionary where key=word and value=#appearances\n",
    "    \"\"\"\n",
    "    partialResult = {}\n",
    "    for entry in data:\n",
    "        if entry in partialResult:\n",
    "            partialResult[entry] += 1\n",
    "        else:\n",
    "            partialResult[entry] = 1\n",
    "    return partialResult"
   ]
  },
  {
   "cell_type": "code",
   "execution_count": 8,
   "metadata": {},
   "outputs": [],
   "source": [
    "@task(returns=dict, priority=True)\n",
    "def merge_two_dicts(dic1, dic2):\n",
    "    \"\"\" Update a dictionary with another dictionary.\n",
    "    :param dic1: first dictionary\n",
    "    :param dic2: second dictionary\n",
    "    :return: dic1+=dic2\n",
    "    \"\"\"\n",
    "    for k in dic2:\n",
    "        if k in dic1:\n",
    "            dic1[k] += dic2[k]\n",
    "        else:\n",
    "            dic1[k] = dic2[k]\n",
    "    return dic1"
   ]
  },
  {
   "cell_type": "code",
   "execution_count": 9,
   "metadata": {},
   "outputs": [
    {
     "name": "stdout",
     "output_type": "stream",
     "text": [
      "Found task: read_file\n",
      "Found task: wordCount\n",
      "Found task: merge_two_dicts\n"
     ]
    }
   ],
   "source": [
    "from pycompss.api.api import compss_wait_on\n",
    "\n",
    "# Get the dataset path\n",
    "pathDataset = os.getcwd() + '/dataset'\n",
    "\n",
    "# Read file's content execute a wordcount on each of them\n",
    "partialResult = []\n",
    "for fileName in os.listdir(pathDataset):\n",
    "    file_path = os.path.join(pathDataset, fileName)\n",
    "    data = read_file(file_path)\n",
    "    partialResult.append(wordCount(data))\n",
    "\n",
    "# Accumulate the partial results to get the final result.\n",
    "result = {}\n",
    "for partial in partialResult:\n",
    "    result = merge_two_dicts(result, partial)\n",
    "\n",
    "# Wait for result\n",
    "result = compss_wait_on(result)"
   ]
  },
  {
   "cell_type": "code",
   "execution_count": 10,
   "metadata": {},
   "outputs": [
    {
     "name": "stdout",
     "output_type": "stream",
     "text": [
      "Result:\n",
      "{'Adipisci': 227,\n",
      " 'Aliquam': 233,\n",
      " 'Amet': 207,\n",
      " 'Consectetur': 201,\n",
      " 'Dolor': 198,\n",
      " 'Dolore': 236,\n",
      " 'Dolorem': 232,\n",
      " 'Eius': 251,\n",
      " 'Est': 197,\n",
      " 'Etincidunt': 232,\n",
      " 'Ipsum': 228,\n",
      " 'Labore': 229,\n",
      " 'Magnam': 195,\n",
      " 'Modi': 201,\n",
      " 'Neque': 205,\n",
      " 'Non': 226,\n",
      " 'Numquam': 253,\n",
      " 'Porro': 205,\n",
      " 'Quaerat': 217,\n",
      " 'Quiquia': 212,\n",
      " 'Quisquam': 214,\n",
      " 'Sed': 225,\n",
      " 'Sit': 220,\n",
      " 'Tempora': 189,\n",
      " 'Ut': 217,\n",
      " 'Velit': 218,\n",
      " 'Voluptatem': 235,\n",
      " 'adipisci': 1078,\n",
      " 'aliquam': 1107,\n",
      " 'amet': 1044,\n",
      " 'consectetur': 1073,\n",
      " 'dolor': 1120,\n",
      " 'dolore': 1065,\n",
      " 'dolorem': 1107,\n",
      " 'eius': 1048,\n",
      " 'est': 1101,\n",
      " 'etincidunt': 1114,\n",
      " 'ipsum': 1061,\n",
      " 'labore': 1070,\n",
      " 'magnam': 1096,\n",
      " 'modi': 1127,\n",
      " 'neque': 1093,\n",
      " 'non': 1099,\n",
      " 'numquam': 1094,\n",
      " 'porro': 1101,\n",
      " 'quaerat': 1086,\n",
      " 'quiquia': 1079,\n",
      " 'quisquam': 1144,\n",
      " 'sed': 1109,\n",
      " 'sit': 1130,\n",
      " 'tempora': 1064,\n",
      " 'ut': 1070,\n",
      " 'velit': 1105,\n",
      " 'voluptatem': 1121}\n",
      "Words: 35409\n"
     ]
    }
   ],
   "source": [
    "print(\"Result:\")\n",
    "from pprint import pprint\n",
    "pprint(result)\n",
    "print(\"Words: {}\".format(sum(result.values())))"
   ]
  },
  {
   "cell_type": "code",
   "execution_count": 11,
   "metadata": {},
   "outputs": [
    {
     "name": "stdout",
     "output_type": "stream",
     "text": [
      "********************************************************\n",
      "*************** STOPPING PyCOMPSs ******************\n",
      "********************************************************\n",
      "Checking if any issue happened.\n",
      "Warning: some of the variables used with PyCOMPSs may\n",
      "         have not been brought to the master.\n",
      "********************************************************\n"
     ]
    }
   ],
   "source": [
    "ipycompss.stop()"
   ]
  }
 ],
 "metadata": {
  "kernelspec": {
   "display_name": "Python 3 (ipykernel)",
   "language": "python",
   "name": "python3"
  },
  "language_info": {
   "codemirror_mode": {
    "name": "ipython",
    "version": 3
   },
   "file_extension": ".py",
   "mimetype": "text/x-python",
   "name": "python",
   "nbconvert_exporter": "python",
   "pygments_lexer": "ipython3",
   "version": "3.10.2"
  },
  "varInspector": {
   "cols": {
    "lenName": 16,
    "lenType": 16,
    "lenVar": 40
   },
   "kernels_config": {
    "python": {
     "delete_cmd_postfix": "",
     "delete_cmd_prefix": "del ",
     "library": "var_list.py",
     "varRefreshCmd": "print(var_dic_list())"
    },
    "r": {
     "delete_cmd_postfix": ") ",
     "delete_cmd_prefix": "rm(",
     "library": "var_list.r",
     "varRefreshCmd": "cat(var_dic_list()) "
    }
   },
   "types_to_exclude": [
    "module",
    "function",
    "builtin_function_or_method",
    "instance",
    "_Feature"
   ],
   "window_display": false
  }
 },
 "nbformat": 4,
 "nbformat_minor": 1
}
