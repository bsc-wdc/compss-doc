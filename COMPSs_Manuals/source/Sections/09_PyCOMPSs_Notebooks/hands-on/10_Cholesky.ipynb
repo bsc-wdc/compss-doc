{
 "cells": [
  {
   "cell_type": "markdown",
   "metadata": {
    "slideshow": {
     "slide_type": "slide"
    }
   },
   "source": [
    "# Cholesky Decomposition/Factorization"
   ]
  },
  {
   "cell_type": "markdown",
   "metadata": {
    "slideshow": {
     "slide_type": "slide"
    }
   },
   "source": [
    "Given a symmetric positive definite matrix A, the Cholesky decomposition is an upper triangular matrix U (with strictly positive diagonal entries) such that:\n",
    "\n",
    "$A=U^TU$"
   ]
  },
  {
   "cell_type": "code",
   "execution_count": 1,
   "metadata": {
    "slideshow": {
     "slide_type": "subslide"
    }
   },
   "outputs": [],
   "source": [
    "import pycompss.interactive as ipycompss"
   ]
  },
  {
   "cell_type": "code",
   "execution_count": 2,
   "metadata": {},
   "outputs": [
    {
     "name": "stdout",
     "output_type": "stream",
     "text": [
      "******************************************************\n",
      "*************** PyCOMPSs Interactive *****************\n",
      "******************************************************\n",
      "*          .-~~-.--.           _____       _______   *\n",
      "*         :         )         |____ \\     /  ___  \\  *\n",
      "*   .~ ~ -.\\       /.- ~~ .     ___) |    | (___) |  *\n",
      "*   >       `.   .'       <    / ___/      > ___ <   *\n",
      "*  (         .- -.         )  | |___   _  | (___) |  *\n",
      "*   `- -.-~  `- -'  ~-.- -'   |_____| |_| \\_______/  *\n",
      "*     (        :        )           _ _ .-:          *\n",
      "*      ~--.    :    .--~        .-~  .-~  }          *\n",
      "*          ~-.-^-.-~ \\_      .~  .-~   .~            *\n",
      "*                   \\ \\ '     \\ '_ _ -~              *\n",
      "*                    \\`.\\`.    //                    *\n",
      "*           . - ~ ~-.__\\`.\\`-.//                     *\n",
      "*       .-~   . - ~  }~ ~ ~-.~-.                     *\n",
      "*     .' .-~      .-~       :/~-.~-./:               *\n",
      "*    /_~_ _ . - ~                 ~-.~-._            *\n",
      "*                                     ~-.<           *\n",
      "******************************************************\n",
      "* - Starting COMPSs runtime...                       *\n",
      "* - Log path : /home/user/.COMPSs/InteractiveMode_19/\n",
      "* - PyCOMPSs Runtime started... Have fun!            *\n",
      "******************************************************\n"
     ]
    }
   ],
   "source": [
    "# Start PyCOMPSs runtime with graph and tracing enabled\n",
    "import os\n",
    "if 'BINDER_SERVICE_HOST' in os.environ:\n",
    "    ipycompss.start(graph=True, trace=True,\n",
    "                    project_xml='../xml/project.xml',\n",
    "                    resources_xml='../xml/resources.xml')\n",
    "else:\n",
    "    ipycompss.start(graph=True, monitor=1000, trace=True)"
   ]
  },
  {
   "cell_type": "code",
   "execution_count": 3,
   "metadata": {},
   "outputs": [],
   "source": [
    "from pycompss.api.task import task\n",
    "from scipy import linalg\n",
    "from scipy import random\n",
    "import numpy as np\n",
    "import ctypes"
   ]
  },
  {
   "cell_type": "markdown",
   "metadata": {
    "slideshow": {
     "slide_type": "subslide"
    }
   },
   "source": [
    "### Task definitions"
   ]
  },
  {
   "cell_type": "code",
   "execution_count": 4,
   "metadata": {},
   "outputs": [],
   "source": [
    "@task(returns=list)\n",
    "def createBlock(BSIZE, MKLProc, diag):\n",
    "    import os\n",
    "    os.environ[\"MKL_NUM_THREADS\"]=str(MKLProc)\n",
    "    block = np.array(np.random.random((BSIZE, BSIZE)), dtype=np.double,copy=False)\n",
    "    mb = np.matrix(block, dtype=np.double, copy=False)\n",
    "    mb = mb + np.transpose(mb)\n",
    "    if diag:\n",
    "        mb = mb + 2*BSIZE*np.eye(BSIZE)\n",
    "    return mb\n",
    "\n",
    "@task(returns=np.ndarray)\n",
    "def potrf(A, MKLProc):\n",
    "    from scipy.linalg.lapack import dpotrf\n",
    "    import os\n",
    "    os.environ['MKL_NUM_THREADS']=str(MKLProc)\n",
    "    A = dpotrf(A, lower=True)[0]\n",
    "    return A\n",
    "\n",
    "@task(returns=np.ndarray)\n",
    "def solve_triangular(A, B, MKLProc):\n",
    "    from scipy.linalg import solve_triangular\n",
    "    from numpy import transpose\n",
    "    import os\n",
    "    os.environ['MKL_NUM_THREADS']=str(MKLProc)\n",
    "    B = transpose(B)\n",
    "    B = solve_triangular(A, B, lower=True)  # , trans='T'\n",
    "    B = transpose(B)\n",
    "    return B\n",
    "\n",
    "@task(returns=np.ndarray)\n",
    "def gemm(alpha, A, B, C, beta, MKLProc):\n",
    "    from scipy.linalg.blas import dgemm\n",
    "    from numpy import transpose\n",
    "    import os\n",
    "    os.environ['MKL_NUM_THREADS']=str(MKLProc)\n",
    "    B = transpose(B)\n",
    "    C = dgemm(alpha, A, B, c=C, beta=beta)\n",
    "    return C"
   ]
  },
  {
   "cell_type": "markdown",
   "metadata": {
    "slideshow": {
     "slide_type": "subslide"
    }
   },
   "source": [
    "### Auxiliar functions"
   ]
  },
  {
   "cell_type": "code",
   "execution_count": 5,
   "metadata": {},
   "outputs": [],
   "source": [
    "def genMatrix(MSIZE, BSIZE, MKLProc, A):\n",
    "    for i in range(MSIZE):\n",
    "        A.append([])\n",
    "        for j in range(MSIZE):\n",
    "            A[i].append([])\n",
    "    for i in range(MSIZE):\n",
    "        mb = createBlock(BSIZE, MKLProc, True)\n",
    "        A[i][i]=mb\n",
    "        for j in range(i+1,MSIZE):\n",
    "            mb = createBlock(BSIZE, MKLProc, False)\n",
    "            A[i][j]=mb\n",
    "            A[j][i]=mb"
   ]
  },
  {
   "cell_type": "code",
   "execution_count": 6,
   "metadata": {},
   "outputs": [],
   "source": [
    "def cholesky_blocked(MSIZE, BSIZE, mkl_threads, A):\n",
    "    import os\n",
    "    for k in range(MSIZE):\n",
    "        # Diagonal block factorization\n",
    "        A[k][k] = potrf(A[k][k], mkl_threads)\n",
    "        # Triangular systems\n",
    "        for i in range(k+1, MSIZE):\n",
    "            A[i][k] = solve_triangular(A[k][k], A[i][k], mkl_threads)\n",
    "            A[k][i] = np.zeros((BSIZE,BSIZE))\n",
    "        # update trailing matrix\n",
    "        for i in range(k+1, MSIZE):\n",
    "            for j in range(i, MSIZE):\n",
    "                A[j][i] = gemm(-1.0, A[j][k], A[i][k], A[j][i], 1.0, mkl_threads)\n",
    "    return A"
   ]
  },
  {
   "cell_type": "markdown",
   "metadata": {
    "slideshow": {
     "slide_type": "subslide"
    }
   },
   "source": [
    "## MAIN Code\n",
    "\n",
    "Parameters (that can be configured in the following cell):\n",
    "* MSIZE: Matrix size (default: 8)\n",
    "* BSIZE: Block size (default: 1024)\n",
    "* mkl_threads: Number of MKL threads (default: 1)"
   ]
  },
  {
   "cell_type": "code",
   "execution_count": 7,
   "metadata": {},
   "outputs": [
    {
     "data": {
      "application/vnd.jupyter.widget-view+json": {
       "model_id": "191674e3adb84c198375a6322e1b33ba",
       "version_major": 2,
       "version_minor": 0
      },
      "text/plain": [
       "interactive(children=(IntText(value=8, description='MSIZE'), IntText(value=1024, description='BSIZE'), IntText…"
      ]
     },
     "metadata": {},
     "output_type": "display_data"
    },
    {
     "data": {
      "text/plain": [
       "<function __main__.cholesky(MSIZE, BSIZE, mkl_threads)>"
      ]
     },
     "execution_count": 7,
     "metadata": {},
     "output_type": "execute_result"
    }
   ],
   "source": [
    "import ipywidgets as widgets\n",
    "from pycompss.api.api import compss_barrier\n",
    "import time\n",
    "\n",
    "w_MSIZE = widgets.IntText(value=8)\n",
    "w_BSIZE = widgets.IntText(value=1024)\n",
    "w_mkl_threads = widgets.IntText(value=1)\n",
    "\n",
    "def cholesky(MSIZE, BSIZE, mkl_threads):\n",
    "    # Generate de matrix\n",
    "    startTime = time.time()\n",
    "\n",
    "    # Generate supermatrix\n",
    "    A = []\n",
    "    res = []\n",
    "    genMatrix(MSIZE, BSIZE, mkl_threads, A)\n",
    "    compss_barrier()\n",
    "\n",
    "    initTime = time.time() - startTime\n",
    "    startDecompTime = time.time()\n",
    "    res = cholesky_blocked(MSIZE, BSIZE, mkl_threads, A)\n",
    "    compss_barrier()\n",
    "\n",
    "    decompTime = time.time() - startDecompTime\n",
    "    totalTime = decompTime + initTime\n",
    "    \n",
    "    print(\"---------- Elapsed Times ----------\")\n",
    "    print(\"initT:{}\".format(initTime))\n",
    "    print(\"decompT:{}\".format(decompTime))\n",
    "    print(\"totalTime:{}\".format(totalTime))\n",
    "    print(\"-----------------------------------\")\n",
    "    \n",
    "widgets.interact_manual(cholesky, MSIZE=w_MSIZE, BSIZE=w_BSIZE, mkl_threads=w_mkl_threads)"
   ]
  },
  {
   "cell_type": "code",
   "execution_count": 8,
   "metadata": {},
   "outputs": [
    {
     "name": "stdout",
     "output_type": "stream",
     "text": [
      "****************************************************\n",
      "*************** STOPPING PyCOMPSs ******************\n",
      "****************************************************\n",
      "Warning: some of the variables used with PyCOMPSs may\n",
      "         have not been brought to the master.\n",
      "****************************************************\n"
     ]
    }
   ],
   "source": [
    "ipycompss.stop()"
   ]
  }
 ],
 "metadata": {
  "kernelspec": {
   "display_name": "Python 2",
   "language": "python",
   "name": "python2"
  },
  "language_info": {
   "codemirror_mode": {
    "name": "ipython",
    "version": 3
   },
   "file_extension": ".py",
   "mimetype": "text/x-python",
   "name": "python",
   "nbconvert_exporter": "python",
   "pygments_lexer": "ipython3",
   "version": "3.6.9"
  },
  "livereveal": {
   "auto_select": "code",
   "overlay": "<div class='myheader'><img height='100' align='right' src='http://www.bsc.es/actris/sites/default/files/logos/BSC-logo%201.jpg'></div>",
   "scroll": true,
   "theme": "simple",
   "transition": "slide"
  },
  "widgets": {
   "application/vnd.jupyter.widget-state+json": {
    "state": {
     "1100c3f693f54aa6960717c7c98246f8": {
      "model_module": "@jupyter-widgets/base",
      "model_module_version": "1.2.0",
      "model_name": "LayoutModel",
      "state": {}
     },
     "12faf813e01d42f5a224e89cb8d502e7": {
      "model_module": "@jupyter-widgets/output",
      "model_module_version": "1.0.0",
      "model_name": "OutputModel",
      "state": {
       "layout": "IPY_MODEL_1100c3f693f54aa6960717c7c98246f8",
       "outputs": [
        {
         "name": "stdout",
         "output_type": "stream",
         "text": "Found task: createBlock\nFound task: potrf\nFound task: solve_triangular\nFound task: gemm\n---------- Elapsed Times ----------\ninitT:0.04097914695739746\ndecompT:0.06966447830200195\ntotalTime:0.11064362525939941\n-----------------------------------\n"
        }
       ]
      }
     },
     "173e8cde4f3f478b9fe2d396cb90f5fe": {
      "model_module": "@jupyter-widgets/controls",
      "model_module_version": "1.5.0",
      "model_name": "VBoxModel",
      "state": {
       "_dom_classes": [
        "widget-interact"
       ],
       "children": [
        "IPY_MODEL_bb5a87f34cbb4c4d856e80df79fffcc1",
        "IPY_MODEL_e3991ab51417458aafc714b844266c41",
        "IPY_MODEL_8a2e5899d1e74eccb97fa1dc160aea09",
        "IPY_MODEL_49d61613962843919460cb65a85d4583",
        "IPY_MODEL_9f76aacf5b8a416590a6b02a31d5215a"
       ],
       "layout": "IPY_MODEL_886fc8015706417ab5c77747dc037008"
      }
     },
     "17f94ef3e7c9409a9e09dcf19927f613": {
      "model_module": "@jupyter-widgets/controls",
      "model_module_version": "1.5.0",
      "model_name": "DescriptionStyleModel",
      "state": {
       "description_width": ""
      }
     },
     "191674e3adb84c198375a6322e1b33ba": {
      "model_module": "@jupyter-widgets/controls",
      "model_module_version": "1.5.0",
      "model_name": "VBoxModel",
      "state": {
       "_dom_classes": [
        "widget-interact"
       ],
       "children": [
        "IPY_MODEL_1a654efcae474e72b5908aa40da22ca3",
        "IPY_MODEL_72d75ec61276400fb0a47908e562b7fd",
        "IPY_MODEL_bca56d3bb5934dd884da6160ff1df8b7",
        "IPY_MODEL_4647055fcb5544cb927c02fe2c2a033b",
        "IPY_MODEL_12faf813e01d42f5a224e89cb8d502e7"
       ],
       "layout": "IPY_MODEL_95fb8a5fab3c42698cb85acad4bbf011"
      }
     },
     "1a654efcae474e72b5908aa40da22ca3": {
      "model_module": "@jupyter-widgets/controls",
      "model_module_version": "1.5.0",
      "model_name": "IntTextModel",
      "state": {
       "description": "MSIZE",
       "layout": "IPY_MODEL_b0e58b12c77b4208a1a40efa53902889",
       "step": 1,
       "style": "IPY_MODEL_5eac24937b8f454f9fa40748bc3eea9a",
       "value": 8
      }
     },
     "1c8ae68366f84782ba572fac9289b2a3": {
      "model_module": "@jupyter-widgets/controls",
      "model_module_version": "1.5.0",
      "model_name": "DescriptionStyleModel",
      "state": {
       "description_width": ""
      }
     },
     "26772342a6c2462db61ed2d91f8c8b4f": {
      "model_module": "@jupyter-widgets/controls",
      "model_module_version": "1.5.0",
      "model_name": "ButtonStyleModel",
      "state": {}
     },
     "28e8bfb87cea46d796d2bc7ff0ac78a1": {
      "model_module": "@jupyter-widgets/base",
      "model_module_version": "1.2.0",
      "model_name": "LayoutModel",
      "state": {}
     },
     "375e9e8bfd994301afd81dfa6b3a861d": {
      "model_module": "@jupyter-widgets/controls",
      "model_module_version": "1.5.0",
      "model_name": "ButtonModel",
      "state": {
       "description": "Run Interact",
       "layout": "IPY_MODEL_f4c63d05dce343829abde02635606d2f",
       "style": "IPY_MODEL_9ace597029174ae8b7f1253fd73453ab"
      }
     },
     "3a15e03e63204e7ab54a4a503e257135": {
      "model_module": "@jupyter-widgets/controls",
      "model_module_version": "1.5.0",
      "model_name": "DescriptionStyleModel",
      "state": {
       "description_width": ""
      }
     },
     "4647055fcb5544cb927c02fe2c2a033b": {
      "model_module": "@jupyter-widgets/controls",
      "model_module_version": "1.5.0",
      "model_name": "ButtonModel",
      "state": {
       "description": "Run Interact",
       "layout": "IPY_MODEL_4674096889a14433859e5ee0190bba65",
       "style": "IPY_MODEL_26772342a6c2462db61ed2d91f8c8b4f"
      }
     },
     "4674096889a14433859e5ee0190bba65": {
      "model_module": "@jupyter-widgets/base",
      "model_module_version": "1.2.0",
      "model_name": "LayoutModel",
      "state": {}
     },
     "4800c0ff2613417aaaa9979bc4516a04": {
      "model_module": "@jupyter-widgets/controls",
      "model_module_version": "1.5.0",
      "model_name": "DescriptionStyleModel",
      "state": {
       "description_width": ""
      }
     },
     "4997670fffe84a40a8f7a452fbf2c652": {
      "model_module": "@jupyter-widgets/base",
      "model_module_version": "1.2.0",
      "model_name": "LayoutModel",
      "state": {}
     },
     "49d61613962843919460cb65a85d4583": {
      "model_module": "@jupyter-widgets/controls",
      "model_module_version": "1.5.0",
      "model_name": "ButtonModel",
      "state": {
       "description": "Run Interact",
       "layout": "IPY_MODEL_6dc2eb82a1cb4b6ab0f178c7e2964256",
       "style": "IPY_MODEL_6353efb1d11b4a039302e4bad0e2d8b4"
      }
     },
     "4ecb6f6a7cc2432cb7dcd91486d49be5": {
      "model_module": "@jupyter-widgets/base",
      "model_module_version": "1.2.0",
      "model_name": "LayoutModel",
      "state": {}
     },
     "5227fa9ad6ad480bb801961f4bd2f312": {
      "model_module": "@jupyter-widgets/base",
      "model_module_version": "1.2.0",
      "model_name": "LayoutModel",
      "state": {}
     },
     "5b289bf3bdad480f872b54e375775a3a": {
      "model_module": "@jupyter-widgets/controls",
      "model_module_version": "1.5.0",
      "model_name": "DescriptionStyleModel",
      "state": {
       "description_width": ""
      }
     },
     "5eac24937b8f454f9fa40748bc3eea9a": {
      "model_module": "@jupyter-widgets/controls",
      "model_module_version": "1.5.0",
      "model_name": "DescriptionStyleModel",
      "state": {
       "description_width": ""
      }
     },
     "632b23ec3dcd4ad2a9f216a95b9bc26b": {
      "model_module": "@jupyter-widgets/base",
      "model_module_version": "1.2.0",
      "model_name": "LayoutModel",
      "state": {}
     },
     "6353efb1d11b4a039302e4bad0e2d8b4": {
      "model_module": "@jupyter-widgets/controls",
      "model_module_version": "1.5.0",
      "model_name": "ButtonStyleModel",
      "state": {}
     },
     "6b61e5b992bf4a5695b3d453d54ccb1e": {
      "model_module": "@jupyter-widgets/controls",
      "model_module_version": "1.5.0",
      "model_name": "IntTextModel",
      "state": {
       "description": "MSIZE",
       "layout": "IPY_MODEL_28e8bfb87cea46d796d2bc7ff0ac78a1",
       "step": 1,
       "style": "IPY_MODEL_9f03e5b0873f423eaa4699a608e7e5b2",
       "value": 8
      }
     },
     "6dc2eb82a1cb4b6ab0f178c7e2964256": {
      "model_module": "@jupyter-widgets/base",
      "model_module_version": "1.2.0",
      "model_name": "LayoutModel",
      "state": {}
     },
     "70d043e16d9e4fd9ae87f766273cbbfc": {
      "model_module": "@jupyter-widgets/controls",
      "model_module_version": "1.5.0",
      "model_name": "VBoxModel",
      "state": {
       "_dom_classes": [
        "widget-interact"
       ],
       "children": [
        "IPY_MODEL_6b61e5b992bf4a5695b3d453d54ccb1e",
        "IPY_MODEL_d99e9816c1eb41aeadbee7de8b899369",
        "IPY_MODEL_9a65a9d473714a7fae47b20eda244359",
        "IPY_MODEL_375e9e8bfd994301afd81dfa6b3a861d",
        "IPY_MODEL_c2f5376959aa481ab05ee5e417f8c36f"
       ],
       "layout": "IPY_MODEL_632b23ec3dcd4ad2a9f216a95b9bc26b"
      }
     },
     "72d75ec61276400fb0a47908e562b7fd": {
      "model_module": "@jupyter-widgets/controls",
      "model_module_version": "1.5.0",
      "model_name": "IntTextModel",
      "state": {
       "description": "BSIZE",
       "layout": "IPY_MODEL_a2b9dcceae4a4ff29e125814bc596aae",
       "step": 1,
       "style": "IPY_MODEL_1c8ae68366f84782ba572fac9289b2a3",
       "value": 1024
      }
     },
     "85a6e5eae68c44e9a1eec27d74d2f7bd": {
      "model_module": "@jupyter-widgets/base",
      "model_module_version": "1.2.0",
      "model_name": "LayoutModel",
      "state": {}
     },
     "886fc8015706417ab5c77747dc037008": {
      "model_module": "@jupyter-widgets/base",
      "model_module_version": "1.2.0",
      "model_name": "LayoutModel",
      "state": {}
     },
     "8a2e5899d1e74eccb97fa1dc160aea09": {
      "model_module": "@jupyter-widgets/controls",
      "model_module_version": "1.5.0",
      "model_name": "IntTextModel",
      "state": {
       "description": "mkl_threads",
       "layout": "IPY_MODEL_5227fa9ad6ad480bb801961f4bd2f312",
       "step": 1,
       "style": "IPY_MODEL_df51f3e415de40e391248b2ff2f59605",
       "value": 1
      }
     },
     "9116d5f3e1b34189b4f0c042cada0764": {
      "model_module": "@jupyter-widgets/base",
      "model_module_version": "1.2.0",
      "model_name": "LayoutModel",
      "state": {}
     },
     "95fb8a5fab3c42698cb85acad4bbf011": {
      "model_module": "@jupyter-widgets/base",
      "model_module_version": "1.2.0",
      "model_name": "LayoutModel",
      "state": {}
     },
     "9a65a9d473714a7fae47b20eda244359": {
      "model_module": "@jupyter-widgets/controls",
      "model_module_version": "1.5.0",
      "model_name": "IntTextModel",
      "state": {
       "description": "mkl_threads",
       "layout": "IPY_MODEL_bcebf67930d44e6fae011fb27ad4c960",
       "step": 1,
       "style": "IPY_MODEL_5b289bf3bdad480f872b54e375775a3a",
       "value": 1
      }
     },
     "9ace597029174ae8b7f1253fd73453ab": {
      "model_module": "@jupyter-widgets/controls",
      "model_module_version": "1.5.0",
      "model_name": "ButtonStyleModel",
      "state": {}
     },
     "9e713804850f4311a93db484a4e423ea": {
      "model_module": "@jupyter-widgets/base",
      "model_module_version": "1.2.0",
      "model_name": "LayoutModel",
      "state": {}
     },
     "9f03e5b0873f423eaa4699a608e7e5b2": {
      "model_module": "@jupyter-widgets/controls",
      "model_module_version": "1.5.0",
      "model_name": "DescriptionStyleModel",
      "state": {
       "description_width": ""
      }
     },
     "9f76aacf5b8a416590a6b02a31d5215a": {
      "model_module": "@jupyter-widgets/output",
      "model_module_version": "1.0.0",
      "model_name": "OutputModel",
      "state": {
       "layout": "IPY_MODEL_9e713804850f4311a93db484a4e423ea",
       "outputs": [
        {
         "name": "stdout",
         "output_type": "stream",
         "text": "---------- Elapsed Times ----------\ninitT:3.37243890762\ndecompT:6.65011000633\ntotalTime:10.022548914\n-----------------------------------\n"
        }
       ]
      }
     },
     "a2b9dcceae4a4ff29e125814bc596aae": {
      "model_module": "@jupyter-widgets/base",
      "model_module_version": "1.2.0",
      "model_name": "LayoutModel",
      "state": {}
     },
     "a5669bc7bb8947789a4f84ef04a8a66f": {
      "model_module": "@jupyter-widgets/base",
      "model_module_version": "1.2.0",
      "model_name": "LayoutModel",
      "state": {}
     },
     "b0e58b12c77b4208a1a40efa53902889": {
      "model_module": "@jupyter-widgets/base",
      "model_module_version": "1.2.0",
      "model_name": "LayoutModel",
      "state": {}
     },
     "bb5a87f34cbb4c4d856e80df79fffcc1": {
      "model_module": "@jupyter-widgets/controls",
      "model_module_version": "1.5.0",
      "model_name": "IntTextModel",
      "state": {
       "description": "MSIZE",
       "layout": "IPY_MODEL_4997670fffe84a40a8f7a452fbf2c652",
       "step": 1,
       "style": "IPY_MODEL_f3f198952ed14ff2bf7624a68033f6b3",
       "value": 8
      }
     },
     "bca56d3bb5934dd884da6160ff1df8b7": {
      "model_module": "@jupyter-widgets/controls",
      "model_module_version": "1.5.0",
      "model_name": "IntTextModel",
      "state": {
       "description": "mkl_threads",
       "layout": "IPY_MODEL_4ecb6f6a7cc2432cb7dcd91486d49be5",
       "step": 1,
       "style": "IPY_MODEL_17f94ef3e7c9409a9e09dcf19927f613",
       "value": 1
      }
     },
     "bcebf67930d44e6fae011fb27ad4c960": {
      "model_module": "@jupyter-widgets/base",
      "model_module_version": "1.2.0",
      "model_name": "LayoutModel",
      "state": {}
     },
     "c2f5376959aa481ab05ee5e417f8c36f": {
      "model_module": "@jupyter-widgets/output",
      "model_module_version": "1.0.0",
      "model_name": "OutputModel",
      "state": {
       "layout": "IPY_MODEL_a5669bc7bb8947789a4f84ef04a8a66f",
       "outputs": [
        {
         "name": "stdout",
         "output_type": "stream",
         "text": "---------- Elapsed Times ----------\ninitT:1.46945810318\ndecompT:4.94694399834\ntotalTime:6.41640210152\n-----------------------------------\n"
        }
       ]
      }
     },
     "d99e9816c1eb41aeadbee7de8b899369": {
      "model_module": "@jupyter-widgets/controls",
      "model_module_version": "1.5.0",
      "model_name": "IntTextModel",
      "state": {
       "description": "BSIZE",
       "layout": "IPY_MODEL_85a6e5eae68c44e9a1eec27d74d2f7bd",
       "step": 1,
       "style": "IPY_MODEL_3a15e03e63204e7ab54a4a503e257135",
       "value": 1024
      }
     },
     "df51f3e415de40e391248b2ff2f59605": {
      "model_module": "@jupyter-widgets/controls",
      "model_module_version": "1.5.0",
      "model_name": "DescriptionStyleModel",
      "state": {
       "description_width": ""
      }
     },
     "e3991ab51417458aafc714b844266c41": {
      "model_module": "@jupyter-widgets/controls",
      "model_module_version": "1.5.0",
      "model_name": "IntTextModel",
      "state": {
       "description": "BSIZE",
       "layout": "IPY_MODEL_9116d5f3e1b34189b4f0c042cada0764",
       "step": 1,
       "style": "IPY_MODEL_4800c0ff2613417aaaa9979bc4516a04",
       "value": 1024
      }
     },
     "f3f198952ed14ff2bf7624a68033f6b3": {
      "model_module": "@jupyter-widgets/controls",
      "model_module_version": "1.5.0",
      "model_name": "DescriptionStyleModel",
      "state": {
       "description_width": ""
      }
     },
     "f4c63d05dce343829abde02635606d2f": {
      "model_module": "@jupyter-widgets/base",
      "model_module_version": "1.2.0",
      "model_name": "LayoutModel",
      "state": {}
     }
    },
    "version_major": 2,
    "version_minor": 0
   }
  }
 },
 "nbformat": 4,
 "nbformat_minor": 2
}
