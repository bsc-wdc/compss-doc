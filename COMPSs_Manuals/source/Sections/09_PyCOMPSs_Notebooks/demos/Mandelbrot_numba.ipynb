{
 "cells": [
  {
   "cell_type": "markdown",
   "metadata": {
    "slideshow": {
     "slide_type": "slide"
    }
   },
   "source": [
    "# Accelerating parallel code with PyCOMPSs and Numba\n",
    "\n",
    "## Demo Supercomputing 2019"
   ]
  },
  {
   "cell_type": "markdown",
   "metadata": {
    "slideshow": {
     "slide_type": "slide"
    }
   },
   "source": [
    "What is mandelbrot?\n",
    "\n",
    "The mandelbrot set is a fractal, which is plotted on the complex plane. It shows how intrincate can be formed from a simple equation.\n",
    "\n",
    "It is generated using the algorithm:\n",
    "\n",
    "\\begin{align}\n",
    "Z_{n+1} & = z_{n}^2 + A \\\\\n",
    "\\end{align}\n",
    "\n",
    "Where *Z* and *A* are complex numbers, and *n* represents the number of iterations."
   ]
  },
  {
   "cell_type": "markdown",
   "metadata": {},
   "source": [
    "First, import time to measure the elapsed execution times and create an ordered dictionary to keep all measures -> we are going to measure and plot the performance with different conditions!"
   ]
  },
  {
   "cell_type": "code",
   "execution_count": 1,
   "metadata": {},
   "outputs": [],
   "source": [
    "import time\n",
    "from collections import OrderedDict\n",
    "times = OrderedDict()"
   ]
  },
  {
   "cell_type": "markdown",
   "metadata": {},
   "source": [
    "And then, all required imports"
   ]
  },
  {
   "cell_type": "code",
   "execution_count": 2,
   "metadata": {},
   "outputs": [],
   "source": [
    "from numpy import NaN, arange, abs, array"
   ]
  },
  {
   "cell_type": "markdown",
   "metadata": {},
   "source": [
    "Mandelbrot set implementation:"
   ]
  },
  {
   "cell_type": "code",
   "execution_count": 3,
   "metadata": {},
   "outputs": [],
   "source": [
    "def mandelbrot(a, max_iter):\n",
    "    z = 0\n",
    "    for n in range(1, max_iter):\n",
    "        z = z**2 + a\n",
    "        if abs(z) > 2:\n",
    "            return n\n",
    "    return NaN"
   ]
  },
  {
   "cell_type": "code",
   "execution_count": 4,
   "metadata": {},
   "outputs": [],
   "source": [
    "def mandelbrot_set(y, X, max_iter):\n",
    "    Z = [0 for _ in range(len(X))]\n",
    "    for ix, x in enumerate(X):\n",
    "        Z[ix] = mandelbrot(x + 1j * y, max_iter)\n",
    "    return Z"
   ]
  },
  {
   "cell_type": "markdown",
   "metadata": {},
   "source": [
    "Main function to generate the mandelbrot set. It splits the space in vertical chunks, and calculates the mandelbrot set of each one, generating the result *Z*."
   ]
  },
  {
   "cell_type": "code",
   "execution_count": 5,
   "metadata": {},
   "outputs": [],
   "source": [
    "def run_mandelbrot(X, Y, max_iter):\n",
    "    st = time.time()\n",
    "    Z = [[] for _ in range(len(Y))]\n",
    "    for iy, y in enumerate(Y):\n",
    "        Z[iy] = mandelbrot_set(y, X, max_iter)\n",
    "    elapsed = time.time() - st\n",
    "    print(\"Elapsed time (s): {}\".format(elapsed))\n",
    "    return Z, elapsed"
   ]
  },
  {
   "cell_type": "markdown",
   "metadata": {},
   "source": [
    "The following function plots the fractal inline (the coerced parameter *<Boolean\\>* is used to set *NaN* in coerced elements within *Z*)."
   ]
  },
  {
   "cell_type": "code",
   "execution_count": 6,
   "metadata": {},
   "outputs": [],
   "source": [
    "%matplotlib inline\n",
    "def plot_fractal(Z, coerced):\n",
    "    if coerced:\n",
    "        Z = [[NaN if c == -2**63 else c for c in row] for row in Z]\n",
    "    import matplotlib.pyplot as plt\n",
    "    Z = array(Z)\n",
    "    plt.imshow(Z, cmap='plasma')\n",
    "    plt.show()"
   ]
  },
  {
   "cell_type": "markdown",
   "metadata": {},
   "source": [
    "Define a benchmarking function:"
   ]
  },
  {
   "cell_type": "code",
   "execution_count": 7,
   "metadata": {},
   "outputs": [],
   "source": [
    "def generate_fractal(coerced=False):\n",
    "    X = arange(-2, .5, .01)\n",
    "    Y = arange(-1.0,  1.0, .01)\n",
    "    max_iterations = 2000\n",
    "    Z, elapsed = run_mandelbrot(X, Y, max_iterations)\n",
    "    plot_fractal(Z, coerced)\n",
    "    return elapsed"
   ]
  },
  {
   "cell_type": "markdown",
   "metadata": {},
   "source": [
    "Run the previous code **sequentially**:"
   ]
  },
  {
   "cell_type": "code",
   "execution_count": 8,
   "metadata": {},
   "outputs": [
    {
     "name": "stdout",
     "output_type": "stream",
     "text": [
      "Elapsed time (s): 58.82250142097473\n"
     ]
    },
    {
     "data": {
      "image/png": "[encoded data removed]",
      "text/plain": [
       "<Figure size 432x288 with 1 Axes>"
      ]
     },
     "metadata": {
      "needs_background": "light"
     },
     "output_type": "display_data"
    }
   ],
   "source": [
    "times['Sequential'] = generate_fractal()"
   ]
  },
  {
   "cell_type": "markdown",
   "metadata": {},
   "source": [
    "## Paralellization with PyCOMPSs\n",
    "\n",
    "After analysing the code, each mandelbrot set can be considered as a task, requiring only to decorate the ``mandelbrot_set`` function. It is interesting to observe that all sets are independent among them, so they can be computed completely independently, enabling to exploit multiple resources concurrently.\n",
    "\n",
    "In order to run this code with we need first to start the **COMPSs** runtime:"
   ]
  },
  {
   "cell_type": "code",
   "execution_count": 9,
   "metadata": {},
   "outputs": [
    {
     "name": "stdout",
     "output_type": "stream",
     "text": [
      "******************************************************\n",
      "*************** PyCOMPSs Interactive *****************\n",
      "******************************************************\n",
      "*          .-~~-.--.           _____       _______   *\n",
      "*         :         )         |____ \\     /  ___  \\  *\n",
      "*   .~ ~ -.\\       /.- ~~ .     ___) |    | (___) |  *\n",
      "*   >       `.   .'       <    / ___/      > ___ <   *\n",
      "*  (         .- -.         )  | |___   _  | (___) |  *\n",
      "*   `- -.-~  `- -'  ~-.- -'   |_____| |_| \\_______/  *\n",
      "*     (        :        )           _ _ .-:          *\n",
      "*      ~--.    :    .--~        .-~  .-~  }          *\n",
      "*          ~-.-^-.-~ \\_      .~  .-~   .~            *\n",
      "*                   \\ \\ '     \\ '_ _ -~              *\n",
      "*                    \\`.\\`.    //                    *\n",
      "*           . - ~ ~-.__\\`.\\`-.//                     *\n",
      "*       .-~   . - ~  }~ ~ ~-.~-.                     *\n",
      "*     .' .-~      .-~       :/~-.~-./:               *\n",
      "*    /_~_ _ . - ~                 ~-.~-._            *\n",
      "*                                     ~-.<           *\n",
      "******************************************************\n",
      "* - Starting COMPSs runtime...                       *\n",
      "* - Log path : /home/user/.COMPSs/InteractiveMode_15/\n",
      "* - PyCOMPSs Runtime started... Have fun!            *\n",
      "******************************************************\n"
     ]
    }
   ],
   "source": [
    "import os\n",
    "import pycompss.interactive as ipycompss\n",
    "if 'BINDER_SERVICE_HOST' in os.environ:\n",
    "    ipycompss.start(project_xml='../xml/project.xml',\n",
    "                    resources_xml='../xml/resources.xml')\n",
    "else:\n",
    "    ipycompss.start(graph=False, trace=True, monitor=1000)"
   ]
  },
  {
   "cell_type": "markdown",
   "metadata": {},
   "source": [
    "It is necessary to decorate the ``mandelbrot_set`` function with the ``@task`` decorator.\n",
    "\n",
    "Note that the ``mandelbrot_set`` function returns a list of elements."
   ]
  },
  {
   "cell_type": "code",
   "execution_count": 10,
   "metadata": {},
   "outputs": [],
   "source": [
    "from pycompss.api.task import task"
   ]
  },
  {
   "cell_type": "code",
   "execution_count": 11,
   "metadata": {},
   "outputs": [],
   "source": [
    "@task(returns=list)\n",
    "def mandelbrot_set(y, X, max_iter):\n",
    "    Z = [0 for _ in range(len(X))]\n",
    "    for ix, x in enumerate(X):\n",
    "        Z[ix] = mandelbrot(x + 1j * y, max_iter)\n",
    "    return Z"
   ]
  },
  {
   "cell_type": "markdown",
   "metadata": {},
   "source": [
    "And finally, include the synchronization of ``Z`` with ``compss_wait_on``."
   ]
  },
  {
   "cell_type": "code",
   "execution_count": 12,
   "metadata": {},
   "outputs": [],
   "source": [
    "from pycompss.api.api import compss_wait_on"
   ]
  },
  {
   "cell_type": "code",
   "execution_count": 13,
   "metadata": {},
   "outputs": [],
   "source": [
    "def run_mandelbrot(X, Y, max_iter):\n",
    "    st = time.time()\n",
    "    Z = [[] for _ in range(len(Y))]\n",
    "    for iy, y in enumerate(Y):\n",
    "        Z[iy] = mandelbrot_set(y, X, max_iter)\n",
    "    Z = compss_wait_on(Z)\n",
    "    elapsed = time.time() - st\n",
    "    print(\"Elapsed time (s): {}\".format(elapsed))\n",
    "    return Z, elapsed"
   ]
  },
  {
   "cell_type": "markdown",
   "metadata": {},
   "source": [
    "Run the benchmark with **PyCOMPSs**:"
   ]
  },
  {
   "cell_type": "code",
   "execution_count": 14,
   "metadata": {},
   "outputs": [
    {
     "name": "stdout",
     "output_type": "stream",
     "text": [
      "Found task: mandelbrot_set\n",
      "Elapsed time (s): 28.14004135131836\n"
     ]
    },
    {
     "data": {
      "image/png": "[encoded data removed]",
      "text/plain": [
       "<Figure size 432x288 with 1 Axes>"
      ]
     },
     "metadata": {
      "needs_background": "light"
     },
     "output_type": "display_data"
    }
   ],
   "source": [
    "times['PyCOMPSs'] = generate_fractal()"
   ]
  },
  {
   "cell_type": "markdown",
   "metadata": {},
   "source": [
    "## Accelerating the tasks with Numba\n",
    "\n",
    "To this end, it is necessary to either use:\n",
    "1. the Numba's ``@jit`` decorator under the PyCOMPSs ``@task`` decorator\n",
    "2. or define the ``numba=True`` within the ``@task`` decorator.\n",
    "\n",
    "First, we decorate the inner function (``mandelbrot``) with ``@jit`` since it is also a target function to be optimized with Numba."
   ]
  },
  {
   "cell_type": "code",
   "execution_count": 15,
   "metadata": {},
   "outputs": [],
   "source": [
    "from numba import jit\n",
    "\n",
    "@jit\n",
    "def mandelbrot(a, max_iter):\n",
    "    z = 0\n",
    "    for n in range(1, max_iter):\n",
    "        z = z**2 + a\n",
    "        if abs(z) > 2:\n",
    "            return n\n",
    "    return NaN # NaN is coerced by Numba"
   ]
  },
  {
   "cell_type": "markdown",
   "metadata": {},
   "source": [
    "*Option 1* - Add the ``@jit`` decorator explicitly under ``@task`` decorator"
   ]
  },
  {
   "cell_type": "raw",
   "metadata": {},
   "source": [
    "@task(returns=list)\n",
    "@jit\n",
    "def mandelbrot_set(y, X, max_iter):\n",
    "    Z = [0 for _ in range(len(X))]\n",
    "    for ix, x in enumerate(X):\n",
    "        Z[ix] = mandelbrot(x + 1j * y, max_iter)\n",
    "    return Z"
   ]
  },
  {
   "cell_type": "markdown",
   "metadata": {},
   "source": [
    "*Option 2* - Add the ``numba=True`` flag within ``@task`` decorator"
   ]
  },
  {
   "cell_type": "code",
   "execution_count": 16,
   "metadata": {},
   "outputs": [],
   "source": [
    "@task(returns=list, numba=True)\n",
    "def mandelbrot_set(y, X, max_iter):\n",
    "    Z = [0 for _ in range(len(X))]\n",
    "    for ix, x in enumerate(X):\n",
    "        Z[ix] = mandelbrot(x + 1j * y, max_iter)\n",
    "    return Z"
   ]
  },
  {
   "cell_type": "markdown",
   "metadata": {},
   "source": [
    "Run the benchmark with **Numba**:"
   ]
  },
  {
   "cell_type": "code",
   "execution_count": 17,
   "metadata": {},
   "outputs": [
    {
     "name": "stdout",
     "output_type": "stream",
     "text": [
      "Found task: mandelbrot_set\n",
      "Elapsed time (s): 5.620610475540161\n"
     ]
    },
    {
     "data": {
      "image/png": "[encoded data removed]",
      "text/plain": [
       "<Figure size 432x288 with 1 Axes>"
      ]
     },
     "metadata": {
      "needs_background": "light"
     },
     "output_type": "display_data"
    }
   ],
   "source": [
    "times['PyCOMPSs + Numba'] = generate_fractal(coerced=True)"
   ]
  },
  {
   "cell_type": "markdown",
   "metadata": {},
   "source": [
    "Plot the times:"
   ]
  },
  {
   "cell_type": "code",
   "execution_count": 18,
   "metadata": {},
   "outputs": [
    {
     "data": {
      "image/png": "[encoded data removed]",
      "text/plain": [
       "<Figure size 432x288 with 1 Axes>"
      ]
     },
     "metadata": {
      "needs_background": "light"
     },
     "output_type": "display_data"
    }
   ],
   "source": [
    "import matplotlib.pyplot as plt\n",
    "plt.bar(*zip(*times.items()))\n",
    "plt.show()"
   ]
  },
  {
   "cell_type": "markdown",
   "metadata": {},
   "source": [
    "Stop **COMPSs** runtime"
   ]
  },
  {
   "cell_type": "code",
   "execution_count": 19,
   "metadata": {},
   "outputs": [
    {
     "name": "stdout",
     "output_type": "stream",
     "text": [
      "****************************************************\n",
      "*************** STOPPING PyCOMPSs ******************\n",
      "****************************************************\n",
      "Warning: some of the variables used with PyCOMPSs may\n",
      "         have not been brought to the master.\n",
      "****************************************************\n"
     ]
    }
   ],
   "source": [
    "ipycompss.stop()"
   ]
  }
 ],
 "metadata": {
  "kernelspec": {
   "display_name": "Python 2",
   "language": "python",
   "name": "python2"
  },
  "language_info": {
   "codemirror_mode": {
    "name": "ipython",
    "version": 3
   },
   "file_extension": ".py",
   "mimetype": "text/x-python",
   "name": "python",
   "nbconvert_exporter": "python",
   "pygments_lexer": "ipython3",
   "version": "3.6.9"
  },
  "livereveal": {
   "auto_select": "code",
   "overlay": "<div class='myheader'><img height='100' align='right' src='http://www.bsc.es/actris/sites/default/files/logos/BSC-logo%201.jpg'></div>",
   "scroll": true,
   "theme": "simple",
   "transition": "slide"
  }
 },
 "nbformat": 4,
 "nbformat_minor": 1
}
