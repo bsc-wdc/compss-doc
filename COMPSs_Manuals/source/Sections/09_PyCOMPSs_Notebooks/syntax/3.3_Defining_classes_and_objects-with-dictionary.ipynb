{
 "cells": [
  {
   "cell_type": "markdown",
   "metadata": {
    "collapsed": true,
    "slideshow": {
     "slide_type": "slide"
    }
   },
   "source": [
    "# PyCOMPSs: Using objects, lists, and synchronization. Using dictionary. \n",
    "\n",
    "In this example we will see how classes and objects can be used from PyCOMPSs, and that class methods can become tasks. The example also illustrates the use of dictionary"
   ]
  },
  {
   "cell_type": "markdown",
   "metadata": {
    "slideshow": {
     "slide_type": "subslide"
    }
   },
   "source": [
    "## Import the PyCOMPSs library"
   ]
  },
  {
   "cell_type": "code",
   "execution_count": 1,
   "metadata": {},
   "outputs": [],
   "source": [
    "import pycompss.interactive as ipycompss"
   ]
  },
  {
   "cell_type": "markdown",
   "metadata": {
    "slideshow": {
     "slide_type": "-"
    }
   },
   "source": [
    "## Start the runtime  \n",
    "Initialize COMPSs runtime\n",
    "Parameters indicates if the execution will generate task graph, tracefile, monitor interval and debug information. "
   ]
  },
  {
   "cell_type": "code",
   "execution_count": 2,
   "metadata": {},
   "outputs": [
    {
     "name": "stdout",
     "output_type": "stream",
     "text": [
      "********************************************************\n",
      "**************** PyCOMPSs Interactive ******************\n",
      "********************************************************\n",
      "*          .-~~-.--.           ______         ______   *\n",
      "*         :         )         |____  \\       |____  \\  *\n",
      "*   .~ ~ -.\\       /.- ~~ .      __) |          __) |  *\n",
      "*   >       `.   .'       <     |__  |         |__  |  *\n",
      "*  (         .- -.         )   ____) |   _    ____) |  *\n",
      "*   `- -.-~  `- -'  ~-.- -'   |______/  |_|  |______/  *\n",
      "*     (        :        )           _ _ .-:            *\n",
      "*      ~--.    :    .--~        .-~  .-~  }            *\n",
      "*          ~-.-^-.-~ \\_      .~  .-~   .~              *\n",
      "*                   \\ \\ '     \\ '_ _ -~                *\n",
      "*                    \\`.\\`.    //                      *\n",
      "*           . - ~ ~-.__\\`.\\`-.//                       *\n",
      "*       .-~   . - ~  }~ ~ ~-.~-.                       *\n",
      "*     .' .-~      .-~       :/~-.~-./:                 *\n",
      "*    /_~_ _ . - ~                 ~-.~-._              *\n",
      "*                                     ~-.<             *\n",
      "********************************************************\n",
      "* - Starting COMPSs runtime...                         *\n",
      "\u0000"
     ]
    },
    {
     "name": "stdout",
     "output_type": "stream",
     "text": [
      "* - Log path : /home/user/.COMPSs/Interactive_06/\n",
      "* - PyCOMPSs Runtime started... Have fun!              *\n",
      "********************************************************\n"
     ]
    }
   ],
   "source": [
    "import os\n",
    "if 'BINDER_SERVICE_HOST' in os.environ:\n",
    "    ipycompss.start(graph=True, debug=True,\n",
    "                    project_xml='../xml/project.xml',\n",
    "                    resources_xml='../xml/resources.xml')\n",
    "else:\n",
    "    ipycompss.start(graph=True, monitor=1000, debug=True, trace=False)"
   ]
  },
  {
   "cell_type": "markdown",
   "metadata": {
    "slideshow": {
     "slide_type": "subslide"
    }
   },
   "source": [
    "## Importing task and arguments directionality modules \n",
    "Import task module before annotating functions or methods "
   ]
  },
  {
   "cell_type": "code",
   "execution_count": 3,
   "metadata": {},
   "outputs": [],
   "source": [
    "from pycompss.api.api import compss_barrier\n",
    "from pycompss.api.api import compss_wait_on\n",
    "from pycompss.api.task import task\n",
    "from pycompss.api.parameter import *"
   ]
  },
  {
   "cell_type": "markdown",
   "metadata": {
    "collapsed": true,
    "slideshow": {
     "slide_type": "subslide"
    }
   },
   "source": [
    "## Declaring a class"
   ]
  },
  {
   "cell_type": "code",
   "execution_count": 4,
   "metadata": {},
   "outputs": [
    {
     "name": "stdout",
     "output_type": "stream",
     "text": [
      "Writing my_shaper.py\n"
     ]
    }
   ],
   "source": [
    "%%writefile my_shaper.py \n",
    "\n",
    "from pycompss.api.task import task\n",
    "from pycompss.api.parameter import IN\n",
    "\n",
    "class Shape(object):\n",
    "    def __init__(self,x,y):\n",
    "        self.x = x\n",
    "        self.y = y\n",
    "        description = \"This shape has not been described yet\"\n",
    "\n",
    "    @task(returns=int, target_direction=IN)\n",
    "    def area(self):\n",
    "        import time\n",
    "        time.sleep(4)\n",
    "        return self.x * self.y\n",
    "    \n",
    "    @task()    \n",
    "    def scaleSize(self,scale):\n",
    "        import time\n",
    "        time.sleep(4)\n",
    "        self.x = self.x * scale\n",
    "        self.y = self.y * scale\n",
    "        \n",
    "    @task(returns=int, target_direction=IN)\n",
    "    def perimeter(self):\n",
    "        import time\n",
    "        time.sleep(4)\n",
    "        return 2 * self.x + 2 * self.y\n",
    "    \n",
    "    def describe(self,text):\n",
    "        self.description = text\n",
    "        \n",
    "    @task(target_direction=IN)\n",
    "    def infoShape(self):\n",
    "        import time\n",
    "        time.sleep(1)\n",
    "        print('Shape x=', self.x, 'y= ', self.y)\n",
    "        "
   ]
  },
  {
   "cell_type": "code",
   "execution_count": 5,
   "metadata": {},
   "outputs": [],
   "source": [
    "@task(returns=int, mydict = DICTIONARY_IN)\n",
    "def addAll(mydict):\n",
    "    import time\n",
    "    time.sleep(4)\n",
    "    sum = 0\n",
    "    for key, value in mydict.items():\n",
    "        sum = sum + value\n",
    "    return sum"
   ]
  },
  {
   "cell_type": "code",
   "execution_count": 6,
   "metadata": {},
   "outputs": [],
   "source": [
    "@task(returns=2, mydict=DICTIONARY_IN, my_otherdict=DICTIONARY_IN)\n",
    "def addAll_2(mydict, my_otherdict):\n",
    "    import time\n",
    "    time.sleep(4)\n",
    "    sum = 0\n",
    "    sum2 = 0\n",
    "    for key, value in mydict.items():\n",
    "        sum = sum + value\n",
    "    for key2, value2 in my_otherdict.items(): \n",
    "        sum2 = sum2 + value2\n",
    "    return sum, sum2 "
   ]
  },
  {
   "cell_type": "code",
   "execution_count": 7,
   "metadata": {},
   "outputs": [],
   "source": [
    "@task(mydict=DICTIONARY_INOUT)\n",
    "def scale_all(mydict, scale):\n",
    "    import time\n",
    "    time.sleep(4)\n",
    "    for key, value in mydict.items():\n",
    "        mydict[key].x = value.x * scale\n",
    "        mydict[key].y = value.y * scale"
   ]
  },
  {
   "cell_type": "markdown",
   "metadata": {
    "slideshow": {
     "slide_type": "subslide"
    }
   },
   "source": [
    "## Invoking tasks "
   ]
  },
  {
   "cell_type": "code",
   "execution_count": 8,
   "metadata": {},
   "outputs": [],
   "source": [
    "from my_shaper import Shape"
   ]
  },
  {
   "cell_type": "code",
   "execution_count": 9,
   "metadata": {},
   "outputs": [],
   "source": [
    "my_shapes = {}\n",
    "my_shapes[\"rectangle\"] = Shape(100,45)\n",
    "my_shapes[\"square\"] = Shape(50,50)\n",
    "my_shapes[\"long_rectangle\"] = Shape(10,100)\n",
    "my_shapes[\"small_rectangle\"] = Shape(20,30)"
   ]
  },
  {
   "cell_type": "code",
   "execution_count": 10,
   "metadata": {},
   "outputs": [],
   "source": [
    "all_areas = {}"
   ]
  },
  {
   "cell_type": "code",
   "execution_count": 11,
   "metadata": {},
   "outputs": [],
   "source": [
    "for key, value in my_shapes.items():\n",
    "    all_areas[key] = value.area()"
   ]
  },
  {
   "cell_type": "markdown",
   "metadata": {},
   "source": [
    "## Synchronizing results from tasks"
   ]
  },
  {
   "cell_type": "code",
   "execution_count": 12,
   "metadata": {},
   "outputs": [
    {
     "name": "stdout",
     "output_type": "stream",
     "text": [
      "{'rectangle': 4500, 'square': 2500, 'long_rectangle': 1000, 'small_rectangle': 600}\n"
     ]
    }
   ],
   "source": [
    "all_areas = compss_wait_on(all_areas)\n",
    "print(all_areas)"
   ]
  },
  {
   "cell_type": "code",
   "execution_count": 13,
   "metadata": {},
   "outputs": [
    {
     "name": "stdout",
     "output_type": "stream",
     "text": [
      "X = 1000\n",
      "Area = 125000\n"
     ]
    }
   ],
   "source": [
    "rectangle = Shape(200,25)\n",
    "rectangle.scaleSize(5)\n",
    "area_rectangle = rectangle.area()\n",
    "rectangle = compss_wait_on(rectangle)\n",
    "print('X =', rectangle.x)\n",
    "area_rectangle = compss_wait_on(area_rectangle)\n",
    "print('Area =', area_rectangle)"
   ]
  },
  {
   "cell_type": "markdown",
   "metadata": {},
   "source": [
    "## Accessing data in collections"
   ]
  },
  {
   "cell_type": "code",
   "execution_count": 14,
   "metadata": {},
   "outputs": [],
   "source": [
    "all_perimeters = {}\n",
    "my_shapes[\"new_shape\"] = rectangle\n",
    "for key, value in my_shapes.items():\n",
    "    all_perimeters[key] = value.perimeter()"
   ]
  },
  {
   "cell_type": "code",
   "execution_count": 15,
   "metadata": {},
   "outputs": [
    {
     "name": "stdout",
     "output_type": "stream",
     "text": [
      "Task definition detected.\n",
      "Found task: addAll\n",
      "3060\n"
     ]
    }
   ],
   "source": [
    "mysum = addAll(all_perimeters)\n",
    "mysum = compss_wait_on(mysum)\n",
    "print(mysum)"
   ]
  },
  {
   "cell_type": "markdown",
   "metadata": {},
   "source": [
    "## Accessing two collections"
   ]
  },
  {
   "cell_type": "code",
   "execution_count": 16,
   "metadata": {},
   "outputs": [],
   "source": [
    "all_perimeters = {}\n",
    "all_areas = {}\n",
    "for key, value in my_shapes.items():\n",
    "    all_perimeters[key] = value.perimeter()\n",
    "    all_areas[key] = value.area()"
   ]
  },
  {
   "cell_type": "code",
   "execution_count": 17,
   "metadata": {},
   "outputs": [
    {
     "name": "stdout",
     "output_type": "stream",
     "text": [
      "Task definition detected.\n",
      "Found task: addAll_2\n",
      "[3060, 133600]\n"
     ]
    }
   ],
   "source": [
    "[my_per, my_area] = addAll_2(all_perimeters, all_areas)\n",
    "[my_per, my_area] = compss_wait_on([my_per, my_area])\n",
    "print([my_per, my_area])"
   ]
  },
  {
   "cell_type": "markdown",
   "metadata": {},
   "source": [
    "## Scattering data from a collection"
   ]
  },
  {
   "cell_type": "code",
   "execution_count": 18,
   "metadata": {},
   "outputs": [
    {
     "name": "stdout",
     "output_type": "stream",
     "text": [
      "Task definition detected.\n",
      "Found task: scale_all\n",
      "{'rectangle': 18000, 'square': 10000, 'long_rectangle': 4000, 'small_rectangle': 2400, 'new_shape': 500000}\n"
     ]
    }
   ],
   "source": [
    "scale_all(my_shapes, 2)\n",
    "scaled_areas = {}\n",
    "for key, value in my_shapes.items():\n",
    "    scaled_areas[key] = value.area()\n",
    "    \n",
    "scaled_areas = compss_wait_on(scaled_areas)\n",
    "print(scaled_areas)"
   ]
  },
  {
   "cell_type": "markdown",
   "metadata": {
    "slideshow": {
     "slide_type": "subslide"
    }
   },
   "source": [
    "## Stop the runtime"
   ]
  },
  {
   "cell_type": "code",
   "execution_count": 19,
   "metadata": {},
   "outputs": [
    {
     "name": "stdout",
     "output_type": "stream",
     "text": [
      "********************************************************\n",
      "***************** STOPPING PyCOMPSs ********************\n",
      "********************************************************\n",
      "Checking if any issue happened.\n",
      "Synchronizing all future objects left on the user scope.\n",
      "********************************************************\n"
     ]
    }
   ],
   "source": [
    "ipycompss.stop(sync=True)"
   ]
  }
 ],
 "metadata": {
  "kernelspec": {
   "display_name": "Python 3 (ipykernel)",
   "language": "python",
   "name": "python3"
  },
  "language_info": {
   "codemirror_mode": {
    "name": "ipython",
    "version": 3
   },
   "file_extension": ".py",
   "mimetype": "text/x-python",
   "name": "python",
   "nbconvert_exporter": "python",
   "pygments_lexer": "ipython3",
   "version": "3.10.12"
  },
  "livereveal": {
   "auto_select": "code",
   "overlay": "<div class='myheader'><img height='100' align='right' src='http://www.bsc.es/actris/sites/default/files/logos/BSC-logo%201.jpg'></div>",
   "scroll": true,
   "theme": "simple",
   "transition": "slide"
  },
  "varInspector": {
   "cols": {
    "lenName": 16,
    "lenType": 16,
    "lenVar": 40
   },
   "kernels_config": {
    "python": {
     "delete_cmd_postfix": "",
     "delete_cmd_prefix": "del ",
     "library": "var_list.py",
     "varRefreshCmd": "print(var_dic_list())"
    },
    "r": {
     "delete_cmd_postfix": ") ",
     "delete_cmd_prefix": "rm(",
     "library": "var_list.r",
     "varRefreshCmd": "cat(var_dic_list()) "
    }
   },
   "types_to_exclude": [
    "module",
    "function",
    "builtin_function_or_method",
    "instance",
    "_Feature"
   ],
   "window_display": false
  }
 },
 "nbformat": 4,
 "nbformat_minor": 1
}
