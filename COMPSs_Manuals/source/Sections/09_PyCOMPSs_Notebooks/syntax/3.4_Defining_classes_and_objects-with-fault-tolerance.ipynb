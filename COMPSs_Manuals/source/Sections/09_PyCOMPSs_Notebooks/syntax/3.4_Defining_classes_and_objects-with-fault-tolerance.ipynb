{
 "cells": [
  {
   "cell_type": "markdown",
   "metadata": {
    "collapsed": true,
    "slideshow": {
     "slide_type": "slide"
    }
   },
   "source": [
    "# PyCOMPSs: Using objects, lists, and synchronization. Managing fault-tolerance. \n",
    "\n",
    "In this example we will see how classes and objects can be used from PyCOMPSs, and that class methods can become tasks. The example also illustrates the current fault-tolerance management provided by the runtime.\n",
    "\n",
    "## Import the PyCOMPSs library"
   ]
  },
  {
   "cell_type": "code",
   "execution_count": 1,
   "metadata": {},
   "outputs": [],
   "source": [
    "import pycompss.interactive as ipycompss"
   ]
  },
  {
   "cell_type": "markdown",
   "metadata": {
    "slideshow": {
     "slide_type": "-"
    }
   },
   "source": [
    "## Start the runtime  \n",
    "Initialize COMPSs runtime\n",
    "Parameters indicates if the execution will generate task graph, tracefile, monitor interval and debug information. "
   ]
  },
  {
   "cell_type": "code",
   "execution_count": 2,
   "metadata": {},
   "outputs": [
    {
     "name": "stdout",
     "output_type": "stream",
     "text": [
      "********************************************************\n",
      "**************** PyCOMPSs Interactive ******************\n",
      "********************************************************\n",
      "*          .-~~-.--.           ______         ______   *\n",
      "*         :         )         |____  \\       |____  \\  *\n",
      "*   .~ ~ -.\\       /.- ~~ .      __) |          __) |  *\n",
      "*   >       `.   .'       <     |__  |         |__  |  *\n",
      "*  (         .- -.         )   ____) |   _    ____) |  *\n",
      "*   `- -.-~  `- -'  ~-.- -'   |______/  |_|  |______/  *\n",
      "*     (        :        )           _ _ .-:            *\n",
      "*      ~--.    :    .--~        .-~  .-~  }            *\n",
      "*          ~-.-^-.-~ \\_      .~  .-~   .~              *\n",
      "*                   \\ \\ '     \\ '_ _ -~                *\n",
      "*                    \\`.\\`.    //                      *\n",
      "*           . - ~ ~-.__\\`.\\`-.//                       *\n",
      "*       .-~   . - ~  }~ ~ ~-.~-.                       *\n",
      "*     .' .-~      .-~       :/~-.~-./:                 *\n",
      "*    /_~_ _ . - ~                 ~-.~-._              *\n",
      "*                                     ~-.<             *\n",
      "********************************************************\n",
      "* - Starting COMPSs runtime...                         *\n",
      "\u0000"
     ]
    },
    {
     "name": "stdout",
     "output_type": "stream",
     "text": [
      "* - Log path : /home/user/.COMPSs/Interactive_07/\n",
      "* - PyCOMPSs Runtime started... Have fun!              *\n",
      "********************************************************\n"
     ]
    }
   ],
   "source": [
    "import os\n",
    "if 'BINDER_SERVICE_HOST' in os.environ:\n",
    "    ipycompss.start(graph=True, debug=False,\n",
    "                    project_xml='../xml/project.xml',\n",
    "                    resources_xml='../xml/resources.xml')\n",
    "else:\n",
    "    ipycompss.start(graph=True, monitor=1000, trace=False, debug=False)"
   ]
  },
  {
   "cell_type": "markdown",
   "metadata": {
    "slideshow": {
     "slide_type": "subslide"
    }
   },
   "source": [
    "## Importing task and arguments directionality modules \n",
    "Import task module before annotating functions or methods "
   ]
  },
  {
   "cell_type": "code",
   "execution_count": 3,
   "metadata": {},
   "outputs": [],
   "source": [
    "from pycompss.api.api import compss_barrier\n",
    "from pycompss.api.api import compss_wait_on\n",
    "from pycompss.api.task import task\n",
    "from pycompss.api.parameter import *"
   ]
  },
  {
   "cell_type": "markdown",
   "metadata": {
    "collapsed": true,
    "slideshow": {
     "slide_type": "subslide"
    }
   },
   "source": [
    "## Declaring a class"
   ]
  },
  {
   "cell_type": "code",
   "execution_count": 4,
   "metadata": {},
   "outputs": [
    {
     "name": "stdout",
     "output_type": "stream",
     "text": [
      "Overwriting my_shaper.py\n"
     ]
    }
   ],
   "source": [
    "%%writefile my_shaper.py \n",
    "\n",
    "from pycompss.api.task import task\n",
    "from pycompss.api.on_failure import on_failure\n",
    "from pycompss.api.parameter import IN\n",
    "import sys\n",
    "\n",
    "class Shape(object):\n",
    "    def __init__(self,x,y):\n",
    "        self.x = x\n",
    "        self.y = y\n",
    "        description = \"This shape has not been described yet\"\n",
    "\n",
    "    @task(returns=int, target_direction=IN)\n",
    "    def area(self):\n",
    "        return self.x * self.y\n",
    "    \n",
    "    @task()    \n",
    "    def scaleSize(self,scale):\n",
    "        self.x = self.x * scale\n",
    "        self.y = self.y * scale\n",
    "        \n",
    "    # management='IGNORE' | 'RETRY' | 'FAIL' | 'CANCEL_SUCCESSORS'\n",
    "    @on_failure(management=\"CANCEL_SUCCESSORS\")\n",
    "    @task()\n",
    "    def downScale(self,scale):\n",
    "        if (scale <= 0):\n",
    "            sys.exit(1)\n",
    "        else: \n",
    "            self.x = self.x/scale\n",
    "            self.y = self.y/scale    \n",
    "        \n",
    "    @task(returns=int, target_direction=IN)\n",
    "    def perimeter(self):\n",
    "        return 2 * self.x + 2 * self.y\n",
    "    \n",
    "    def describe(self,text):\n",
    "        self.description = text\n",
    "        \n",
    "    @task(target_direction=IN)\n",
    "    def infoShape(self):\n",
    "        print('Shape x=', self.x, 'y= ', self.y)\n",
    "        "
   ]
  },
  {
   "cell_type": "markdown",
   "metadata": {
    "slideshow": {
     "slide_type": "subslide"
    }
   },
   "source": [
    "## Invoking tasks "
   ]
  },
  {
   "cell_type": "code",
   "execution_count": 5,
   "metadata": {},
   "outputs": [],
   "source": [
    "from my_shaper import Shape"
   ]
  },
  {
   "cell_type": "code",
   "execution_count": 6,
   "metadata": {},
   "outputs": [],
   "source": [
    "my_shapes = []\n",
    "my_shapes.append(Shape(100,45))\n",
    "my_shapes.append(Shape(50,50))\n",
    "my_shapes.append(Shape(10,100))\n",
    "my_shapes.append(Shape(20,30))\n",
    "my_shapes.append(Shape(200,25))"
   ]
  },
  {
   "cell_type": "code",
   "execution_count": 7,
   "metadata": {},
   "outputs": [],
   "source": [
    "all_perimeters = []"
   ]
  },
  {
   "cell_type": "code",
   "execution_count": 8,
   "metadata": {},
   "outputs": [],
   "source": [
    "i=4\n",
    "for this_shape in my_shapes:\n",
    "    this_shape.scaleSize(2)\n",
    "    this_shape.area()\n",
    "    i = i - 1 \n",
    "    this_shape.downScale(i)\n",
    "    all_perimeters.append(this_shape.perimeter())  "
   ]
  },
  {
   "cell_type": "markdown",
   "metadata": {},
   "source": [
    "## Synchronizing results from tasks"
   ]
  },
  {
   "cell_type": "code",
   "execution_count": 9,
   "metadata": {},
   "outputs": [
    {
     "name": "stdout",
     "output_type": "stream",
     "text": [
      "WARNING: Could not retrieve the object /home/user/.COMPSs/Interactive_07/tmpFiles/pycompsssqo27tt9/de05df52-7264-11ee-96af-c8f75057b763-12 since the task that produces it may have been IGNORED or CANCELLED. Please, check the logs. Returning None.\n",
      "WARNING: Could not retrieve the object /home/user/.COMPSs/Interactive_07/tmpFiles/pycompsssqo27tt9/de05df52-7264-11ee-96af-c8f75057b763-15 since the task that produces it may have been IGNORED or CANCELLED. Please, check the logs. Returning None.\n",
      "[193.33333333333334, 200.0, 440.0, None, None]\n"
     ]
    },
    {
     "data": {
      "application/javascript": [
       "require([\"base/js/dialog\"],\n",
       "                                    function(dialog) {\n",
       "                                        dialog.modal({\n",
       "                                            title: 'WARNING: Some tasks may have failed',\n",
       "                                            body: $('<p>[ERRMGR]  -  WARNING: Job 12, running Task 15 on worker localhost, has failed.<br>[ERRMGR]  -  WARNING: Cancelling successors.<br>[ERRMGR]  -  WARNING: Notifying task 15 failure<br>[ERRMGR]  -  WARNING: Task my_shaper.Shape.downScale TOTALLY FAILED.<br>[ERRMGR]  -  WARNING: Job 11, running Task 19 on worker localhost, has failed.<br>[ERRMGR]  -  WARNING: Cancelling successors.<br>[ERRMGR]  -  WARNING: Task 16(Action: 16) with name my_shaper.Shape.perimeter has been canceled.<br>[ERRMGR]  -  WARNING: Task failed: [[Task id: 15], [Status: FAILED], [Core id: 2], [Priority: false], [NumNodes: 1], [MustReplicate: false], [MustDistribute: false], [my_shaper.Shape.downScale(INT_T)]]<br>[ERRMGR]  -  WARNING: Notifying task 19 failure<br>[ERRMGR]  -  WARNING: Task canceled: [[Task id: 16], [Status: CANCELED], [Core id: 3], [Priority: false], [NumNodes: 1], [MustReplicate: false], [MustDistribute: false], [my_shaper.Shape.perimeter()]]<br>[ERRMGR]  -  WARNING: Task my_shaper.Shape.downScale TOTALLY FAILED.<br>[ERRMGR]  -  WARNING: Task failed: [[Task id: 19], [Status: FAILED], [Core id: 2], [Priority: false], [NumNodes: 1], [MustReplicate: false], [MustDistribute: false], [my_shaper.Shape.downScale(INT_T)]]<br>[ERRMGR]  -  WARNING: Task 20(Action: 20) with name my_shaper.Shape.perimeter has been canceled.<br>[ERRMGR]  -  WARNING: Task canceled: [[Task id: 20], [Status: CANCELED], [Core id: 3], [Priority: false], [NumNodes: 1], [MustReplicate: false], [MustDistribute: false], [my_shaper.Shape.perimeter()]]</p>'),\n",
       "                                            buttons: {\n",
       "                                                'Continue': { },\n",
       "                                            }\n",
       "                                        });\n",
       "                                    }\n",
       "                            );"
      ],
      "text/plain": [
       "<IPython.core.display.Javascript object>"
      ]
     },
     "metadata": {},
     "output_type": "display_data"
    },
    {
     "name": "stdout",
     "output_type": "stream",
     "text": [
      "\u001b[40;46mINFO: The ERRMGR displayed some error or warnings.\u001b[0m\n"
     ]
    }
   ],
   "source": [
    "all_perimeters = compss_wait_on(all_perimeters)\n",
    "print(all_perimeters)"
   ]
  },
  {
   "cell_type": "markdown",
   "metadata": {
    "slideshow": {
     "slide_type": "subslide"
    }
   },
   "source": [
    "## Stop the runtime"
   ]
  },
  {
   "cell_type": "code",
   "execution_count": 10,
   "metadata": {},
   "outputs": [
    {
     "name": "stdout",
     "output_type": "stream",
     "text": [
      "********************************************************\n",
      "***************** STOPPING PyCOMPSs ********************\n",
      "********************************************************\n",
      "Checking if any issue happened.\n"
     ]
    },
    {
     "name": "stderr",
     "output_type": "stream",
     "text": [
      "[ERRMGR]  -  WARNING: file /home/user/.COMPSs/Interactive_07/tmpFiles/pycompsssqo27tt9/de05df52-7264-11ee-96af-c8f75057b763-12:linux-2e63 was accessed but the file information not found. Maybe it has been previously canceled\n",
      "[ERRMGR]  -  WARNING: No version available. Returning null\n",
      "[ERRMGR]  -  WARNING: file /home/user/.COMPSs/Interactive_07/tmpFiles/pycompsssqo27tt9/de05df52-7264-11ee-96af-c8f75057b763-15:linux-2e63 was accessed but the file information not found. Maybe it has been previously canceled\n",
      "[ERRMGR]  -  WARNING: No version available. Returning null\n"
     ]
    },
    {
     "name": "stdout",
     "output_type": "stream",
     "text": [
      "Warning: some of the variables used with PyCOMPSs may\n",
      "         have not been brought to the master.\n",
      "********************************************************\n"
     ]
    }
   ],
   "source": [
    "ipycompss.stop(sync=False)"
   ]
  }
 ],
 "metadata": {
  "kernelspec": {
   "display_name": "Python 3 (ipykernel)",
   "language": "python",
   "name": "python3"
  },
  "language_info": {
   "codemirror_mode": {
    "name": "ipython",
    "version": 3
   },
   "file_extension": ".py",
   "mimetype": "text/x-python",
   "name": "python",
   "nbconvert_exporter": "python",
   "pygments_lexer": "ipython3",
   "version": "3.10.12"
  },
  "livereveal": {
   "auto_select": "code",
   "overlay": "<div class='myheader'><img height='100' align='right' src='http://www.bsc.es/actris/sites/default/files/logos/BSC-logo%201.jpg'></div>",
   "scroll": true,
   "theme": "simple",
   "transition": "slide"
  },
  "varInspector": {
   "cols": {
    "lenName": 16,
    "lenType": 16,
    "lenVar": 40
   },
   "kernels_config": {
    "python": {
     "delete_cmd_postfix": "",
     "delete_cmd_prefix": "del ",
     "library": "var_list.py",
     "varRefreshCmd": "print(var_dic_list())"
    },
    "r": {
     "delete_cmd_postfix": ") ",
     "delete_cmd_prefix": "rm(",
     "library": "var_list.r",
     "varRefreshCmd": "cat(var_dic_list()) "
    }
   },
   "types_to_exclude": [
    "module",
    "function",
    "builtin_function_or_method",
    "instance",
    "_Feature"
   ],
   "window_display": false
  }
 },
 "nbformat": 4,
 "nbformat_minor": 1
}
