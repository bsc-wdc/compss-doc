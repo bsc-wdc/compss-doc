{
 "cells": [
  {
   "cell_type": "markdown",
   "metadata": {},
   "source": [
    "# Dislib tutorial\n",
    "\n",
    "This tutorial will show the basics of using [dislib](https://dislib.bsc.es).\n",
    "\n",
    "\n",
    "## Setup\n",
    "\n",
    "\n",
    "First, we need to start an interactive PyCOMPSs session:"
   ]
  },
  {
   "cell_type": "code",
   "execution_count": 1,
   "metadata": {},
   "outputs": [
    {
     "name": "stdout",
     "output_type": "stream",
     "text": [
      "******************************************************\n",
      "*************** PyCOMPSs Interactive *****************\n",
      "******************************************************\n",
      "*          .-~~-.--.           _____       ________  *\n",
      "*         :         )         |____ \\     |____   /  *\n",
      "*   .~ ~ -.\\       /.- ~~ .     ___) |        /  /   *\n",
      "*   >       `.   .'       <    / ___/        /  /    *\n",
      "*  (         .- -.         )  | |___   _    /  /     *\n",
      "*   `- -.-~  `- -'  ~-.- -'   |_____| |_|  /__/      *\n",
      "*     (        :        )           _ _ .-:          *\n",
      "*      ~--.    :    .--~        .-~  .-~  }          *\n",
      "*          ~-.-^-.-~ \\_      .~  .-~   .~            *\n",
      "*                   \\ \\ '     \\ '_ _ -~              *\n",
      "*                    \\`.\\`.    //                    *\n",
      "*           . - ~ ~-.__\\`.\\`-.//                     *\n",
      "*       .-~   . - ~  }~ ~ ~-.~-.                     *\n",
      "*     .' .-~      .-~       :/~-.~-./:               *\n",
      "*    /_~_ _ . - ~                 ~-.~-._            *\n",
      "*                                     ~-.<           *\n",
      "******************************************************\n",
      "* - Starting COMPSs runtime...                       *\n",
      "* - Log path : /home/user/.COMPSs/Interactive_01/\n",
      "* - PyCOMPSs Runtime started... Have fun!            *\n",
      "******************************************************\n"
     ]
    }
   ],
   "source": [
    "import pycompss.interactive as ipycompss\n",
    "import os\n",
    "if 'BINDER_SERVICE_HOST' in os.environ:\n",
    "    ipycompss.start(graph=True,\n",
    "                    project_xml='../xml/project.xml',\n",
    "                    resources_xml='../xml/resources.xml')\n",
    "else:\n",
    "    ipycompss.start(graph=True, monitor=1000)"
   ]
  },
  {
   "cell_type": "markdown",
   "metadata": {},
   "source": [
    "Next, we import dislib and we are all set to start working!"
   ]
  },
  {
   "cell_type": "code",
   "execution_count": 2,
   "metadata": {},
   "outputs": [],
   "source": [
    "import dislib as ds"
   ]
  },
  {
   "cell_type": "markdown",
   "metadata": {},
   "source": [
    "## Distributed arrays\n",
    "\n",
    "The main data structure in dislib is the distributed array (or ds-array). These arrays are a distributed representation of a 2-dimensional array that can be operated as a regular Python object. Usually, rows in the array represent samples, while columns represent features.\n",
    "\n",
    "To create a random array we can run the following NumPy-like command:"
   ]
  },
  {
   "cell_type": "code",
   "execution_count": 3,
   "metadata": {},
   "outputs": [
    {
     "name": "stdout",
     "output_type": "stream",
     "text": [
      "(500, 500)\n"
     ]
    },
    {
     "data": {
      "text/plain": [
       "ds-array(blocks=(...), top_left_shape=(100, 100), reg_shape=(100, 100), shape=(500, 500), sparse=False)"
      ]
     },
     "execution_count": 3,
     "metadata": {},
     "output_type": "execute_result"
    }
   ],
   "source": [
    "x = ds.random_array(shape=(500, 500), block_size=(100, 100))\n",
    "print(x.shape)\n",
    "x"
   ]
  },
  {
   "cell_type": "markdown",
   "metadata": {},
   "source": [
    "Now `x` is a 500x500 ds-array of random numbers stored in blocks of 100x100 elements. Note that `x` is not stored in memory. Instead, `random_array` generates the contents of the array in tasks that are usually executed remotely. This allows the creation of really big arrays.\n",
    "\n",
    "The content of `x` is a list of `Futures` that represent the actual data (wherever it is stored).\n",
    "\n",
    "To see this, we can access the `_blocks` field of `x`:"
   ]
  },
  {
   "cell_type": "code",
   "execution_count": 4,
   "metadata": {},
   "outputs": [
    {
     "data": {
      "text/plain": [
       "<pycompss.runtime.binding.Future at 0x7fb45006c4a8>"
      ]
     },
     "execution_count": 4,
     "metadata": {},
     "output_type": "execute_result"
    }
   ],
   "source": [
    "x._blocks[0][0]"
   ]
  },
  {
   "cell_type": "markdown",
   "metadata": {},
   "source": [
    "`block_size` is useful to control the granularity of dislib algorithms.\n",
    "\n",
    "To retrieve the actual contents of `x`, we use `collect`, which synchronizes the data and returns the equivalent NumPy array:"
   ]
  },
  {
   "cell_type": "code",
   "execution_count": 5,
   "metadata": {},
   "outputs": [
    {
     "data": {
      "text/plain": [
       "array([[0.64524889, 0.69250058, 0.97374899, ..., 0.36928149, 0.75461806,\n",
       "        0.98784805],\n",
       "       [0.61753454, 0.092557  , 0.4967433 , ..., 0.87482708, 0.44454572,\n",
       "        0.0022951 ],\n",
       "       [0.78473344, 0.15288068, 0.70022708, ..., 0.82488172, 0.16980005,\n",
       "        0.30608108],\n",
       "       ...,\n",
       "       [0.16257112, 0.94326181, 0.26206143, ..., 0.49725598, 0.80564738,\n",
       "        0.69616444],\n",
       "       [0.25089352, 0.10652958, 0.79657793, ..., 0.86936011, 0.67382938,\n",
       "        0.78140887],\n",
       "       [0.17716041, 0.24354163, 0.52866266, ..., 0.12053584, 0.9071268 ,\n",
       "        0.55058659]])"
      ]
     },
     "execution_count": 5,
     "metadata": {},
     "output_type": "execute_result"
    }
   ],
   "source": [
    "x.collect()"
   ]
  },
  {
   "cell_type": "markdown",
   "metadata": {},
   "source": [
    "Another way of creating ds-arrays is using array-like structures like NumPy arrays or lists:"
   ]
  },
  {
   "cell_type": "code",
   "execution_count": 6,
   "metadata": {},
   "outputs": [
    {
     "data": {
      "text/plain": [
       "ds-array(blocks=(...), top_left_shape=(1, 3), reg_shape=(1, 3), shape=(2, 3), sparse=False)"
      ]
     },
     "execution_count": 6,
     "metadata": {},
     "output_type": "execute_result"
    }
   ],
   "source": [
    "x1 = ds.array([[1, 2, 3], [4, 5, 6]], block_size=(1, 3))\n",
    "x1"
   ]
  },
  {
   "cell_type": "markdown",
   "metadata": {},
   "source": [
    "Distributed arrays can also store sparse data in CSR format:"
   ]
  },
  {
   "cell_type": "code",
   "execution_count": 7,
   "metadata": {},
   "outputs": [
    {
     "data": {
      "text/plain": [
       "ds-array(blocks=(...), top_left_shape=(1, 3), reg_shape=(1, 3), shape=(2, 3), sparse=True)"
      ]
     },
     "execution_count": 7,
     "metadata": {},
     "output_type": "execute_result"
    }
   ],
   "source": [
    "from scipy.sparse import csr_matrix\n",
    "\n",
    "sp = csr_matrix([[0, 0, 1], [1, 0, 1]])\n",
    "x_sp = ds.array(sp, block_size=(1, 3))\n",
    "x_sp"
   ]
  },
  {
   "cell_type": "markdown",
   "metadata": {},
   "source": [
    "In this case, `collect` returns a CSR matrix as well:"
   ]
  },
  {
   "cell_type": "code",
   "execution_count": 8,
   "metadata": {},
   "outputs": [
    {
     "data": {
      "text/plain": [
       "<2x3 sparse matrix of type '<class 'numpy.int64'>'\n",
       "\twith 3 stored elements in Compressed Sparse Row format>"
      ]
     },
     "execution_count": 8,
     "metadata": {},
     "output_type": "execute_result"
    }
   ],
   "source": [
    "x_sp.collect()"
   ]
  },
  {
   "cell_type": "markdown",
   "metadata": {},
   "source": [
    "### Loading data\n",
    "\n",
    "A typical way of creating ds-arrays is to load data from disk. Dislib currently supports reading data in CSV and SVMLight formats like this:"
   ]
  },
  {
   "cell_type": "code",
   "execution_count": 9,
   "metadata": {},
   "outputs": [
    {
     "name": "stdout",
     "output_type": "stream",
     "text": [
      "ds-array(blocks=(...), top_left_shape=(20, 100), reg_shape=(20, 100), shape=(61, 780), sparse=True)\n",
      "ds-array(blocks=(...), top_left_shape=(500, 122), reg_shape=(500, 122), shape=(4235, 122), sparse=False)\n"
     ]
    }
   ],
   "source": [
    "x, y = ds.load_svmlight_file(\"./files/libsvm/1\", block_size=(20, 100), n_features=780, store_sparse=True)\n",
    "\n",
    "print(x)\n",
    "\n",
    "csv = ds.load_txt_file(\"./files/csv/1\", block_size=(500, 122))\n",
    "\n",
    "print(csv)"
   ]
  },
  {
   "cell_type": "markdown",
   "metadata": {},
   "source": [
    "### Slicing\n",
    "\n",
    "Similar to NumPy, ds-arrays support the following types of slicing:\n",
    "\n",
    "(Note that slicing a ds-array creates a new ds-array)"
   ]
  },
  {
   "cell_type": "code",
   "execution_count": 10,
   "metadata": {},
   "outputs": [],
   "source": [
    "x = ds.random_array((50, 50), (10, 10))"
   ]
  },
  {
   "cell_type": "markdown",
   "metadata": {},
   "source": [
    "Get a single row:"
   ]
  },
  {
   "cell_type": "code",
   "execution_count": 11,
   "metadata": {},
   "outputs": [
    {
     "data": {
      "text/plain": [
       "ds-array(blocks=(...), top_left_shape=(10, 10), reg_shape=(10, 10), shape=(1, 50), sparse=False)"
      ]
     },
     "execution_count": 11,
     "metadata": {},
     "output_type": "execute_result"
    }
   ],
   "source": [
    "x[4]"
   ]
  },
  {
   "cell_type": "markdown",
   "metadata": {},
   "source": [
    "Get a single element:"
   ]
  },
  {
   "cell_type": "code",
   "execution_count": 12,
   "metadata": {},
   "outputs": [
    {
     "data": {
      "text/plain": [
       "ds-array(blocks=(...), top_left_shape=(1, 1), reg_shape=(1, 1), shape=(1, 1), sparse=False)"
      ]
     },
     "execution_count": 12,
     "metadata": {},
     "output_type": "execute_result"
    }
   ],
   "source": [
    "x[2, 3]"
   ]
  },
  {
   "cell_type": "markdown",
   "metadata": {},
   "source": [
    "Get a set of rows or a set of columns:"
   ]
  },
  {
   "cell_type": "code",
   "execution_count": 13,
   "metadata": {},
   "outputs": [
    {
     "name": "stdout",
     "output_type": "stream",
     "text": [
      "ds-array(blocks=(...), top_left_shape=(10, 10), reg_shape=(10, 10), shape=(10, 50), sparse=False)\n",
      "ds-array(blocks=(...), top_left_shape=(10, 10), reg_shape=(10, 10), shape=(50, 10), sparse=False)\n",
      "ds-array(blocks=(...), top_left_shape=(10, 10), reg_shape=(10, 10), shape=(3, 50), sparse=False)\n",
      "ds-array(blocks=(...), top_left_shape=(10, 10), reg_shape=(10, 10), shape=(50, 3), sparse=False)\n"
     ]
    }
   ],
   "source": [
    "# Consecutive rows\n",
    "print(x[10:20])\n",
    "\n",
    "# Consecutive columns\n",
    "print(x[:, 10:20])\n",
    "\n",
    "# Non consecutive rows\n",
    "print(x[[3, 7, 22]])\n",
    "\n",
    "# Non consecutive columns\n",
    "print(x[:, [5, 9, 48]])"
   ]
  },
  {
   "cell_type": "markdown",
   "metadata": {},
   "source": [
    "Get any set of elements:"
   ]
  },
  {
   "cell_type": "code",
   "execution_count": 14,
   "metadata": {},
   "outputs": [
    {
     "data": {
      "text/plain": [
       "ds-array(blocks=(...), top_left_shape=(10, 10), reg_shape=(10, 10), shape=(5, 5), sparse=False)"
      ]
     },
     "execution_count": 14,
     "metadata": {},
     "output_type": "execute_result"
    }
   ],
   "source": [
    "x[0:5, 40:45]"
   ]
  },
  {
   "cell_type": "markdown",
   "metadata": {},
   "source": [
    "### Other functions\n",
    "\n",
    "Apart from this, ds-arrays also provide other useful operations like `transpose` and `mean`:"
   ]
  },
  {
   "cell_type": "code",
   "execution_count": 15,
   "metadata": {},
   "outputs": [
    {
     "data": {
      "text/plain": [
       "array([0.551327  , 0.49044018, 0.47707326, 0.505077  , 0.48609203,\n",
       "       0.5046837 , 0.48576743, 0.50085461, 0.59721606, 0.52625186,\n",
       "       0.54670041, 0.51213254, 0.4790549 , 0.56172745, 0.54560812,\n",
       "       0.52904012, 0.54524971, 0.52370167, 0.44268389, 0.58325103,\n",
       "       0.4754059 , 0.4990062 , 0.55135695, 0.53576298, 0.44728801,\n",
       "       0.57918722, 0.46289081, 0.48786927, 0.46635653, 0.53229369,\n",
       "       0.50648353, 0.53486796, 0.5159688 , 0.50703502, 0.46818427,\n",
       "       0.59886016, 0.48181209, 0.51001161, 0.46914881, 0.57437929,\n",
       "       0.52491673, 0.49711231, 0.50817903, 0.50102322, 0.42250693,\n",
       "       0.51456321, 0.53393824, 0.47924624, 0.49860827, 0.49424366])"
      ]
     },
     "execution_count": 15,
     "metadata": {},
     "output_type": "execute_result"
    }
   ],
   "source": [
    "x.mean(axis=0).collect()"
   ]
  },
  {
   "cell_type": "code",
   "execution_count": 16,
   "metadata": {},
   "outputs": [
    {
     "data": {
      "text/plain": [
       "array([[0.75899854, 0.83108977, 0.28083382, ..., 0.65348721, 0.10747938,\n",
       "        0.13453309],\n",
       "       [0.70515755, 0.22656129, 0.60863163, ..., 0.10640133, 0.3311688 ,\n",
       "        0.50884584],\n",
       "       [0.71224037, 0.95907871, 0.6010006 , ..., 0.41099068, 0.5671029 ,\n",
       "        0.06170055],\n",
       "       ...,\n",
       "       [0.39789773, 0.69988175, 0.93784369, ..., 0.24439267, 0.45685381,\n",
       "        0.93017544],\n",
       "       [0.22410234, 0.13491992, 0.75906239, ..., 0.96917569, 0.96204333,\n",
       "        0.14629864],\n",
       "       [0.81496796, 0.96925576, 0.58510411, ..., 0.65520011, 0.05744591,\n",
       "        0.78974985]])"
      ]
     },
     "execution_count": 16,
     "metadata": {},
     "output_type": "execute_result"
    }
   ],
   "source": [
    "x.transpose().collect()"
   ]
  },
  {
   "cell_type": "markdown",
   "metadata": {},
   "source": [
    "## Machine learning with dislib\n",
    "\n",
    "Dislib provides an estimator-based API very similar to [scikit-learn](https://scikit-learn.org/stable/). To run an algorithm, we first create an estimator. For example, a K-means estimator:"
   ]
  },
  {
   "cell_type": "code",
   "execution_count": 17,
   "metadata": {},
   "outputs": [],
   "source": [
    "from dislib.cluster import KMeans\n",
    "\n",
    "km = KMeans(n_clusters=3)"
   ]
  },
  {
   "cell_type": "markdown",
   "metadata": {},
   "source": [
    "Now, we create a ds-array with some blob data, and fit the estimator:"
   ]
  },
  {
   "cell_type": "code",
   "execution_count": 18,
   "metadata": {},
   "outputs": [
    {
     "data": {
      "text/plain": [
       "KMeans(arity=50, init='random', max_iter=10, n_clusters=3,\n",
       "       random_state=<mtrand.RandomState object at 0x7fb51401f9d8>, tol=0.0001,\n",
       "       verbose=False)"
      ]
     },
     "execution_count": 18,
     "metadata": {},
     "output_type": "execute_result"
    }
   ],
   "source": [
    "from sklearn.datasets import make_blobs\n",
    "\n",
    "# create ds-array\n",
    "x, y = make_blobs(n_samples=1500)\n",
    "x_ds = ds.array(x, block_size=(500, 2))\n",
    "\n",
    "km.fit(x_ds)"
   ]
  },
  {
   "cell_type": "markdown",
   "metadata": {},
   "source": [
    "Finally, we can make predictions on new (or the same) data:"
   ]
  },
  {
   "cell_type": "code",
   "execution_count": 19,
   "metadata": {},
   "outputs": [
    {
     "data": {
      "text/plain": [
       "ds-array(blocks=(...), top_left_shape=(500, 1), reg_shape=(500, 1), shape=(1500, 1), sparse=False)"
      ]
     },
     "execution_count": 19,
     "metadata": {},
     "output_type": "execute_result"
    }
   ],
   "source": [
    "y_pred = km.predict(x_ds)\n",
    "y_pred"
   ]
  },
  {
   "cell_type": "markdown",
   "metadata": {},
   "source": [
    "`y_pred` is a ds-array of predicted labels for `x_ds`"
   ]
  },
  {
   "cell_type": "markdown",
   "metadata": {},
   "source": [
    "Let's plot the results"
   ]
  },
  {
   "cell_type": "code",
   "execution_count": 20,
   "metadata": {},
   "outputs": [
    {
     "data": {
      "text/plain": [
       "<matplotlib.collections.PathCollection at 0x7fb42b4fc518>"
      ]
     },
     "execution_count": 20,
     "metadata": {},
     "output_type": "execute_result"
    },
    {
     "data": {
      "image/png": "[encoded data removed]",
      "text/plain": [
       "<Figure size 432x288 with 1 Axes>"
      ]
     },
     "metadata": {},
     "output_type": "display_data"
    }
   ],
   "source": [
    "%matplotlib inline\n",
    "import matplotlib.pyplot as plt\n",
    "\n",
    "\n",
    "centers = km.centers\n",
    "\n",
    "# set the color of each sample to the predicted label\n",
    "plt.scatter(x[:, 0], x[:, 1], c=y_pred.collect())\n",
    "\n",
    "# plot the computed centers in red\n",
    "plt.scatter(centers[:, 0], centers[:, 1], c='red')"
   ]
  },
  {
   "cell_type": "markdown",
   "metadata": {},
   "source": [
    "Note that we need to call `y_pred.collect()` to retrieve the actual labels and plot them. The rest is the same as if we were using scikit-learn."
   ]
  },
  {
   "cell_type": "markdown",
   "metadata": {},
   "source": [
    "Now let's try a more complex example that uses some preprocessing tools.\n",
    "\n",
    "First, we load a classification data set from scikit-learn into ds-arrays. \n",
    "\n",
    "Note that this step is only necessary for demonstration purposes. Ideally, your data should be already loaded in ds-arrays."
   ]
  },
  {
   "cell_type": "code",
   "execution_count": 21,
   "metadata": {},
   "outputs": [],
   "source": [
    "from sklearn.datasets import load_breast_cancer\n",
    "from sklearn.model_selection import train_test_split\n",
    "\n",
    "x, y = load_breast_cancer(return_X_y=True)\n",
    "\n",
    "x_train, x_test, y_train, y_test = train_test_split(x, y)\n",
    "\n",
    "x_train = ds.array(x_train, block_size=(100, 10))\n",
    "y_train = ds.array(y_train.reshape(-1, 1), block_size=(100, 1))\n",
    "\n",
    "x_test = ds.array(x_test, block_size=(100, 10))\n",
    "y_test = ds.array(y_test.reshape(-1, 1), block_size=(100, 1))"
   ]
  },
  {
   "cell_type": "markdown",
   "metadata": {},
   "source": [
    "Next, we can see how support vector machines perform in classifying the data. We first fit the model (ignore any warnings in this step):"
   ]
  },
  {
   "cell_type": "code",
   "execution_count": 22,
   "metadata": {},
   "outputs": [
    {
     "name": "stderr",
     "output_type": "stream",
     "text": [
      "/usr/lib/python3.6/site-packages/dislib-0.4.0-py3.6.egg/dislib/classification/csvm/base.py:374: RuntimeWarning: overflow encountered in exp\n",
      "  k = np.exp(k)\n",
      "/usr/lib/python3.6/site-packages/dislib-0.4.0-py3.6.egg/dislib/classification/csvm/base.py:342: RuntimeWarning: invalid value encountered in double_scalars\n",
      "  delta = np.abs((w - self._last_w) / self._last_w)\n"
     ]
    },
    {
     "data": {
      "text/plain": [
       "CascadeSVM(c=1, cascade_arity=2, check_convergence=True, gamma='auto',\n",
       "           kernel='rbf', max_iter=5, random_state=None, tol=0.001,\n",
       "           verbose=False)"
      ]
     },
     "execution_count": 22,
     "metadata": {},
     "output_type": "execute_result"
    }
   ],
   "source": [
    "from dislib.classification import CascadeSVM\n",
    "\n",
    "csvm = CascadeSVM()\n",
    "\n",
    "csvm.fit(x_train, y_train)"
   ]
  },
  {
   "cell_type": "markdown",
   "metadata": {},
   "source": [
    "and now we can make predictions on new data using `csvm.predict()`, or we can get the model accuracy on the test set with:"
   ]
  },
  {
   "cell_type": "code",
   "execution_count": 23,
   "metadata": {},
   "outputs": [],
   "source": [
    "score = csvm.score(x_test, y_test)"
   ]
  },
  {
   "cell_type": "markdown",
   "metadata": {},
   "source": [
    "`score` represents the classifier accuracy, however, it is returned as a `Future`. We need to synchronize to get the actual value:"
   ]
  },
  {
   "cell_type": "code",
   "execution_count": 24,
   "metadata": {},
   "outputs": [
    {
     "name": "stdout",
     "output_type": "stream",
     "text": [
      "0.5944055944055944\n"
     ]
    }
   ],
   "source": [
    "from pycompss.api.api import compss_wait_on\n",
    "\n",
    "print(compss_wait_on(score))"
   ]
  },
  {
   "cell_type": "markdown",
   "metadata": {},
   "source": [
    "The accuracy should be around 0.6, which is not very good. We can scale the data before classification to improve accuracy. This can be achieved using dislib's `StandardScaler`.\n",
    "\n",
    "The `StandardScaler` provides the same API as other estimators. In this case, however, instead of making predictions on new data, we transform it:"
   ]
  },
  {
   "cell_type": "code",
   "execution_count": 25,
   "metadata": {},
   "outputs": [],
   "source": [
    "from dislib.preprocessing import StandardScaler\n",
    "\n",
    "sc = StandardScaler()\n",
    "\n",
    "# fit the scaler with train data and transform it\n",
    "scaled_train = sc.fit_transform(x_train)\n",
    "\n",
    "# transform test data\n",
    "scaled_test = sc.transform(x_test)"
   ]
  },
  {
   "cell_type": "markdown",
   "metadata": {},
   "source": [
    "Now `scaled_train` and `scaled_test` are the scaled samples. Let's see how SVM perfroms now."
   ]
  },
  {
   "cell_type": "code",
   "execution_count": 26,
   "metadata": {},
   "outputs": [
    {
     "name": "stdout",
     "output_type": "stream",
     "text": [
      "0.972027972027972\n"
     ]
    }
   ],
   "source": [
    "csvm.fit(scaled_train, y_train)\n",
    "score = csvm.score(scaled_test, y_test)\n",
    "print(compss_wait_on(score))"
   ]
  },
  {
   "cell_type": "markdown",
   "metadata": {},
   "source": [
    "The new accuracy should be around 0.9, which is a great improvement!"
   ]
  },
  {
   "cell_type": "markdown",
   "metadata": {},
   "source": [
    "### Close the session\n",
    "\n",
    "To finish the session, we need to stop PyCOMPSs:"
   ]
  },
  {
   "cell_type": "code",
   "execution_count": 27,
   "metadata": {},
   "outputs": [
    {
     "name": "stdout",
     "output_type": "stream",
     "text": [
      "****************************************************\n",
      "*************** STOPPING PyCOMPSs ******************\n",
      "****************************************************\n",
      "Warning: some of the variables used with PyCOMPSs may\n",
      "         have not been brought to the master.\n",
      "****************************************************\n"
     ]
    }
   ],
   "source": [
    "ipycompss.stop()"
   ]
  }
 ],
 "metadata": {
  "kernelspec": {
   "display_name": "Python 3",
   "language": "python",
   "name": "python3"
  },
  "language_info": {
   "codemirror_mode": {
    "name": "ipython",
    "version": 3
   },
   "file_extension": ".py",
   "mimetype": "text/x-python",
   "name": "python",
   "nbconvert_exporter": "python",
   "pygments_lexer": "ipython3",
   "version": "3.6.9"
  }
 },
 "nbformat": 4,
 "nbformat_minor": 2
}
