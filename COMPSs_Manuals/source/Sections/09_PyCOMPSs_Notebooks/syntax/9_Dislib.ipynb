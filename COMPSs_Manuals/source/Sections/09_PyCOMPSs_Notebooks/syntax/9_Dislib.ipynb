{
 "cells": [
  {
   "cell_type": "markdown",
   "metadata": {},
   "source": [
    "# Dislib tutorial\n",
    "\n",
    "This tutorial will show the basics of using [dislib](https://dislib.bsc.es).\n",
    "\n",
    "## Requirements\n",
    "\n",
    "Apart from dislib, this notebook requires [PyCOMPSs 2.5](https://www.bsc.es/research-and-development/software-and-apps/software-list/comp-superscalar/).\n",
    "\n",
    "\n",
    "## Setup\n",
    "\n",
    "\n",
    "First, we need to start an interactive PyCOMPSs session:"
   ]
  },
  {
   "cell_type": "code",
   "execution_count": 1,
   "metadata": {},
   "outputs": [
    {
     "name": "stdout",
     "output_type": "stream",
     "text": [
      "******************************************************\n",
      "*************** PyCOMPSs Interactive *****************\n",
      "******************************************************\n",
      "*          .-~~-.--.           _____          __     *\n",
      "*         :         )         |____ \\        / /     *\n",
      "*   .~ ~ -.\\       /.- ~~ .     ___) |      / /__    *\n",
      "*   >       `.   .'       <    / ___/      /  _  \\   *\n",
      "*  (         .- -.         )  | |___   _  |  |_|  )  *\n",
      "*   `- -.-~  `- -'  ~-.- -'   |_____| |_|  \\_____/   *\n",
      "*     (        :        )           _ _ .-:          *\n",
      "*      ~--.    :    .--~        .-~  .-~  }          *\n",
      "*          ~-.-^-.-~ \\_      .~  .-~   .~            *\n",
      "*                   \\ \\ '     \\ '_ _ -~              *\n",
      "*                    \\`.\\`.    //                    *\n",
      "*           . - ~ ~-.__\\`.\\`-.//                     *\n",
      "*       .-~   . - ~  }~ ~ ~-.~-.                     *\n",
      "*     .' .-~      .-~       :/~-.~-./:               *\n",
      "*    /_~_ _ . - ~                 ~-.~-._            *\n",
      "*                                     ~-.<           *\n",
      "******************************************************\n",
      "* - Starting COMPSs runtime...                       *\n",
      "* - Log path : /home/user/.COMPSs/Interactive_12/\n",
      "* - PyCOMPSs Runtime started... Have fun!            *\n",
      "******************************************************\n"
     ]
    }
   ],
   "source": [
    "import pycompss.interactive as ipycompss\n",
    "import os\n",
    "if 'BINDER_SERVICE_HOST' in os.environ:\n",
    "    ipycompss.start(graph=True,\n",
    "                    project_xml='../xml/project.xml',\n",
    "                    resources_xml='../xml/resources.xml')\n",
    "else:\n",
    "    ipycompss.start(graph=True, monitor=1000)"
   ]
  },
  {
   "cell_type": "markdown",
   "metadata": {},
   "source": [
    "Next, we import dislib and we are all set to start working!"
   ]
  },
  {
   "cell_type": "code",
   "execution_count": 2,
   "metadata": {},
   "outputs": [],
   "source": [
    "import dislib as ds"
   ]
  },
  {
   "cell_type": "markdown",
   "metadata": {},
   "source": [
    "## Distributed arrays\n",
    "\n",
    "The main data structure in dislib is the distributed array (or ds-array). These arrays are a distributed representation of a 2-dimensional array that can be operated as a regular Python object. Usually, rows in the array represent samples, while columns represent features.\n",
    "\n",
    "To create a random array we can run the following NumPy-like command:"
   ]
  },
  {
   "cell_type": "code",
   "execution_count": 3,
   "metadata": {},
   "outputs": [
    {
     "name": "stdout",
     "output_type": "stream",
     "text": [
      "(500, 500)\n"
     ]
    },
    {
     "data": {
      "text/plain": [
       "ds-array(blocks=(...), top_left_shape=(100, 100), reg_shape=(100, 100), shape=(500, 500), sparse=False)"
      ]
     },
     "execution_count": 3,
     "metadata": {},
     "output_type": "execute_result"
    }
   ],
   "source": [
    "x = ds.random_array(shape=(500, 500), block_size=(100, 100))\n",
    "print(x.shape)\n",
    "x"
   ]
  },
  {
   "cell_type": "markdown",
   "metadata": {},
   "source": [
    "Now `x` is a 500x500 ds-array of random numbers stored in blocks of 100x100 elements. Note that `x` is not stored in memory. Instead, `random_array` generates the contents of the array in tasks that are usually executed remotely. This allows the creation of really big arrays.\n",
    "\n",
    "The content of `x` is a list of `Futures` that represent the actual data (wherever it is stored).\n",
    "\n",
    "To see this, we can access the `_blocks` field of `x`:"
   ]
  },
  {
   "cell_type": "code",
   "execution_count": 4,
   "metadata": {},
   "outputs": [
    {
     "data": {
      "text/plain": [
       "<pycompss.runtime.binding.Future at 0x7f2d5c1b5898>"
      ]
     },
     "execution_count": 4,
     "metadata": {},
     "output_type": "execute_result"
    }
   ],
   "source": [
    "x._blocks[0][0]"
   ]
  },
  {
   "cell_type": "markdown",
   "metadata": {},
   "source": [
    "`block_size` is useful to control the granularity of dislib algorithms.\n",
    "\n",
    "To retrieve the actual contents of `x`, we use `collect`, which synchronizes the data and returns the equivalent NumPy array:"
   ]
  },
  {
   "cell_type": "code",
   "execution_count": 5,
   "metadata": {},
   "outputs": [
    {
     "data": {
      "text/plain": [
       "array([[0.08926603, 0.56430002, 0.25576084, ..., 0.47092064, 0.99339052,\n",
       "        0.79237293],\n",
       "       [0.12895415, 0.95770445, 0.8318225 , ..., 0.53750341, 0.48281394,\n",
       "        0.85689257],\n",
       "       [0.74096786, 0.66551462, 0.93143283, ..., 0.24373657, 0.27132772,\n",
       "        0.26549014],\n",
       "       ...,\n",
       "       [0.85392924, 0.78187006, 0.70060064, ..., 0.61540026, 0.45095598,\n",
       "        0.18957015],\n",
       "       [0.96381917, 0.92730133, 0.2808164 , ..., 0.58817054, 0.47783077,\n",
       "        0.3411401 ],\n",
       "       [0.35877111, 0.76612947, 0.27217405, ..., 0.6565757 , 0.74224726,\n",
       "        0.40222038]])"
      ]
     },
     "execution_count": 5,
     "metadata": {},
     "output_type": "execute_result"
    }
   ],
   "source": [
    "x.collect()"
   ]
  },
  {
   "cell_type": "markdown",
   "metadata": {},
   "source": [
    "Another way of creating ds-arrays is using array-like structures like NumPy arrays or lists:"
   ]
  },
  {
   "cell_type": "code",
   "execution_count": 6,
   "metadata": {},
   "outputs": [
    {
     "data": {
      "text/plain": [
       "ds-array(blocks=(...), top_left_shape=(1, 3), reg_shape=(1, 3), shape=(2, 3), sparse=False)"
      ]
     },
     "execution_count": 6,
     "metadata": {},
     "output_type": "execute_result"
    }
   ],
   "source": [
    "x1 = ds.array([[1, 2, 3], [4, 5, 6]], block_size=(1, 3))\n",
    "x1"
   ]
  },
  {
   "cell_type": "markdown",
   "metadata": {},
   "source": [
    "Distributed arrays can also store sparse data in CSR format:"
   ]
  },
  {
   "cell_type": "code",
   "execution_count": 7,
   "metadata": {},
   "outputs": [
    {
     "data": {
      "text/plain": [
       "ds-array(blocks=(...), top_left_shape=(1, 3), reg_shape=(1, 3), shape=(2, 3), sparse=True)"
      ]
     },
     "execution_count": 7,
     "metadata": {},
     "output_type": "execute_result"
    }
   ],
   "source": [
    "from scipy.sparse import csr_matrix\n",
    "\n",
    "sp = csr_matrix([[0, 0, 1], [1, 0, 1]])\n",
    "x_sp = ds.array(sp, block_size=(1, 3))\n",
    "x_sp"
   ]
  },
  {
   "cell_type": "markdown",
   "metadata": {},
   "source": [
    "In this case, `collect` returns a CSR matrix as well:"
   ]
  },
  {
   "cell_type": "code",
   "execution_count": 8,
   "metadata": {},
   "outputs": [
    {
     "data": {
      "text/plain": [
       "<2x3 sparse matrix of type '<class 'numpy.int64'>'\n",
       "\twith 3 stored elements in Compressed Sparse Row format>"
      ]
     },
     "execution_count": 8,
     "metadata": {},
     "output_type": "execute_result"
    }
   ],
   "source": [
    "x_sp.collect()"
   ]
  },
  {
   "cell_type": "markdown",
   "metadata": {},
   "source": [
    "### Loading data\n",
    "\n",
    "A typical way of creating ds-arrays is to load data from disk. Dislib currently supports reading data in CSV and SVMLight formats like this:"
   ]
  },
  {
   "cell_type": "code",
   "execution_count": 9,
   "metadata": {},
   "outputs": [
    {
     "name": "stdout",
     "output_type": "stream",
     "text": [
      "ds-array(blocks=(...), top_left_shape=(20, 100), reg_shape=(20, 100), shape=(61, 780), sparse=True)\n",
      "ds-array(blocks=(...), top_left_shape=(500, 122), reg_shape=(500, 122), shape=(4235, 122), sparse=False)\n"
     ]
    }
   ],
   "source": [
    "x, y = ds.load_svmlight_file(\"./files/libsvm/1\", block_size=(20, 100), n_features=780, store_sparse=True)\n",
    "\n",
    "print(x)\n",
    "\n",
    "csv = ds.load_txt_file(\"./files/csv/1\", block_size=(500, 122))\n",
    "\n",
    "print(csv)"
   ]
  },
  {
   "cell_type": "markdown",
   "metadata": {},
   "source": [
    "### Slicing\n",
    "\n",
    "Similar to NumPy, ds-arrays support the following types of slicing:\n",
    "\n",
    "(Note that slicing a ds-array creates a new ds-array)"
   ]
  },
  {
   "cell_type": "code",
   "execution_count": 10,
   "metadata": {},
   "outputs": [],
   "source": [
    "x = ds.random_array((50, 50), (10, 10))"
   ]
  },
  {
   "cell_type": "markdown",
   "metadata": {},
   "source": [
    "Get a single row:"
   ]
  },
  {
   "cell_type": "code",
   "execution_count": 11,
   "metadata": {},
   "outputs": [
    {
     "data": {
      "text/plain": [
       "ds-array(blocks=(...), top_left_shape=(10, 10), reg_shape=(10, 10), shape=(1, 50), sparse=False)"
      ]
     },
     "execution_count": 11,
     "metadata": {},
     "output_type": "execute_result"
    }
   ],
   "source": [
    "x[4]"
   ]
  },
  {
   "cell_type": "markdown",
   "metadata": {},
   "source": [
    "Get a single element:"
   ]
  },
  {
   "cell_type": "code",
   "execution_count": 12,
   "metadata": {},
   "outputs": [
    {
     "data": {
      "text/plain": [
       "ds-array(blocks=(...), top_left_shape=(1, 1), reg_shape=(1, 1), shape=(1, 1), sparse=False)"
      ]
     },
     "execution_count": 12,
     "metadata": {},
     "output_type": "execute_result"
    }
   ],
   "source": [
    "x[2, 3]"
   ]
  },
  {
   "cell_type": "markdown",
   "metadata": {},
   "source": [
    "Get a set of rows or a set of columns:"
   ]
  },
  {
   "cell_type": "code",
   "execution_count": 13,
   "metadata": {},
   "outputs": [
    {
     "name": "stdout",
     "output_type": "stream",
     "text": [
      "ds-array(blocks=(...), top_left_shape=(10, 10), reg_shape=(10, 10), shape=(10, 50), sparse=False)\n",
      "ds-array(blocks=(...), top_left_shape=(10, 10), reg_shape=(10, 10), shape=(50, 10), sparse=False)\n",
      "ds-array(blocks=(...), top_left_shape=(10, 10), reg_shape=(10, 10), shape=(3, 50), sparse=False)\n",
      "ds-array(blocks=(...), top_left_shape=(10, 10), reg_shape=(10, 10), shape=(50, 3), sparse=False)\n"
     ]
    }
   ],
   "source": [
    "# Consecutive rows\n",
    "print(x[10:20])\n",
    "\n",
    "# Consecutive columns\n",
    "print(x[:, 10:20])\n",
    "\n",
    "# Non consecutive rows\n",
    "print(x[[3, 7, 22]])\n",
    "\n",
    "# Non consecutive columns\n",
    "print(x[:, [5, 9, 48]])"
   ]
  },
  {
   "cell_type": "markdown",
   "metadata": {},
   "source": [
    "Get any set of elements:"
   ]
  },
  {
   "cell_type": "code",
   "execution_count": 14,
   "metadata": {},
   "outputs": [
    {
     "data": {
      "text/plain": [
       "ds-array(blocks=(...), top_left_shape=(10, 10), reg_shape=(10, 10), shape=(5, 5), sparse=False)"
      ]
     },
     "execution_count": 14,
     "metadata": {},
     "output_type": "execute_result"
    }
   ],
   "source": [
    "x[0:5, 40:45]"
   ]
  },
  {
   "cell_type": "markdown",
   "metadata": {},
   "source": [
    "### Other functions\n",
    "\n",
    "Apart from this, ds-arrays also provide other useful operations like `transpose` and `mean`:"
   ]
  },
  {
   "cell_type": "code",
   "execution_count": 15,
   "metadata": {},
   "outputs": [
    {
     "data": {
      "text/plain": [
       "array([0.4700235 , 0.44151424, 0.46111685, 0.55287232, 0.49525766,\n",
       "       0.45375314, 0.44442441, 0.4734936 , 0.53122152, 0.57427493,\n",
       "       0.58514157, 0.48112453, 0.50260837, 0.44135921, 0.51932079,\n",
       "       0.4579027 , 0.50440289, 0.50615978, 0.44123122, 0.46708428,\n",
       "       0.3988739 , 0.42188976, 0.50445958, 0.49600123, 0.50802901,\n",
       "       0.4985808 , 0.51622819, 0.56142448, 0.50447174, 0.5667377 ,\n",
       "       0.47664583, 0.43393675, 0.43175102, 0.51933939, 0.56035119,\n",
       "       0.39271726, 0.53442275, 0.50210818, 0.52894798, 0.56071819,\n",
       "       0.55775502, 0.453102  , 0.50645108, 0.50607524, 0.5195186 ,\n",
       "       0.45409538, 0.51110272, 0.4667208 , 0.45178652, 0.5501911 ])"
      ]
     },
     "execution_count": 15,
     "metadata": {},
     "output_type": "execute_result"
    }
   ],
   "source": [
    "x.mean(axis=0).collect()"
   ]
  },
  {
   "cell_type": "code",
   "execution_count": 16,
   "metadata": {},
   "outputs": [
    {
     "data": {
      "text/plain": [
       "array([[0.44513144, 0.34949922, 0.00275855, ..., 0.84964727, 0.13354003,\n",
       "        0.52419508],\n",
       "       [0.05207893, 0.00161373, 0.08451492, ..., 0.663287  , 0.26563952,\n",
       "        0.53838438],\n",
       "       [0.01319886, 0.41928283, 0.63694749, ..., 0.82530529, 0.95734898,\n",
       "        0.98663568],\n",
       "       ...,\n",
       "       [0.40868388, 0.49696998, 0.5645322 , ..., 0.36952947, 0.42807349,\n",
       "        0.27839324],\n",
       "       [0.84569669, 0.40761455, 0.22877559, ..., 0.86886539, 0.57777478,\n",
       "        0.55847255],\n",
       "       [0.81838859, 0.82347985, 0.34449293, ..., 0.14685364, 0.65667784,\n",
       "        0.62582436]])"
      ]
     },
     "execution_count": 16,
     "metadata": {},
     "output_type": "execute_result"
    }
   ],
   "source": [
    "x.transpose().collect()"
   ]
  },
  {
   "cell_type": "markdown",
   "metadata": {},
   "source": [
    "## Machine learning with dislib\n",
    "\n",
    "Dislib provides an estimator-based API very similar to [scikit-learn](https://scikit-learn.org/stable/). To run an algorithm, we first create an estimator. For example, a K-means estimator:"
   ]
  },
  {
   "cell_type": "code",
   "execution_count": 17,
   "metadata": {},
   "outputs": [],
   "source": [
    "from dislib.cluster import KMeans\n",
    "\n",
    "km = KMeans(n_clusters=3)"
   ]
  },
  {
   "cell_type": "markdown",
   "metadata": {},
   "source": [
    "Now, we create a ds-array with some blob data, and fit the estimator:"
   ]
  },
  {
   "cell_type": "code",
   "execution_count": 18,
   "metadata": {},
   "outputs": [
    {
     "data": {
      "text/plain": [
       "KMeans(arity=50, init='random', max_iter=10, n_clusters=3,\n",
       "       random_state=<mtrand.RandomState object at 0x7f2e28035f78>, tol=0.0001,\n",
       "       verbose=False)"
      ]
     },
     "execution_count": 18,
     "metadata": {},
     "output_type": "execute_result"
    }
   ],
   "source": [
    "from sklearn.datasets import make_blobs\n",
    "\n",
    "# create ds-array\n",
    "x, y = make_blobs(n_samples=1500)\n",
    "x_ds = ds.array(x, block_size=(500, 2))\n",
    "\n",
    "km.fit(x_ds)"
   ]
  },
  {
   "cell_type": "markdown",
   "metadata": {},
   "source": [
    "Finally, we can make predictions on new (or the same) data:"
   ]
  },
  {
   "cell_type": "code",
   "execution_count": 19,
   "metadata": {},
   "outputs": [
    {
     "data": {
      "text/plain": [
       "ds-array(blocks=(...), top_left_shape=(500, 1), reg_shape=(500, 1), shape=(1500, 1), sparse=False)"
      ]
     },
     "execution_count": 19,
     "metadata": {},
     "output_type": "execute_result"
    }
   ],
   "source": [
    "y_pred = km.predict(x_ds)\n",
    "y_pred"
   ]
  },
  {
   "cell_type": "markdown",
   "metadata": {},
   "source": [
    "`y_pred` is a ds-array of predicted labels for `x_ds`"
   ]
  },
  {
   "cell_type": "markdown",
   "metadata": {},
   "source": [
    "Let's plot the results"
   ]
  },
  {
   "cell_type": "code",
   "execution_count": 20,
   "metadata": {},
   "outputs": [
    {
     "data": {
      "text/plain": [
       "<matplotlib.collections.PathCollection at 0x7f2d3c148c18>"
      ]
     },
     "execution_count": 20,
     "metadata": {},
     "output_type": "execute_result"
    },
    {
     "data": {
      "image/png": "[encoded data removed]",
      "text/plain": [
       "<Figure size 432x288 with 1 Axes>"
      ]
     },
     "metadata": {},
     "output_type": "display_data"
    }
   ],
   "source": [
    "%matplotlib inline\n",
    "import matplotlib.pyplot as plt\n",
    "\n",
    "\n",
    "centers = km.centers\n",
    "\n",
    "# set the color of each sample to the predicted label\n",
    "plt.scatter(x[:, 0], x[:, 1], c=y_pred.collect())\n",
    "\n",
    "# plot the computed centers in red\n",
    "plt.scatter(centers[:, 0], centers[:, 1], c='red')"
   ]
  },
  {
   "cell_type": "markdown",
   "metadata": {},
   "source": [
    "Note that we need to call `y_pred.collect()` to retrieve the actual labels and plot them. The rest is the same as if we were using scikit-learn."
   ]
  },
  {
   "cell_type": "markdown",
   "metadata": {},
   "source": [
    "Now let's try a more complex example that uses some preprocessing tools.\n",
    "\n",
    "First, we load a classification data set from scikit-learn into ds-arrays. \n",
    "\n",
    "Note that this step is only necessary for demonstration purposes. Ideally, your data should be already loaded in ds-arrays."
   ]
  },
  {
   "cell_type": "code",
   "execution_count": 21,
   "metadata": {},
   "outputs": [],
   "source": [
    "from sklearn.datasets import load_breast_cancer\n",
    "from sklearn.model_selection import train_test_split\n",
    "\n",
    "x, y = load_breast_cancer(return_X_y=True)\n",
    "\n",
    "x_train, x_test, y_train, y_test = train_test_split(x, y)\n",
    "\n",
    "x_train = ds.array(x_train, block_size=(100, 10))\n",
    "y_train = ds.array(y_train.reshape(-1, 1), block_size=(100, 1))\n",
    "\n",
    "x_test = ds.array(x_test, block_size=(100, 10))\n",
    "y_test = ds.array(y_test.reshape(-1, 1), block_size=(100, 1))"
   ]
  },
  {
   "cell_type": "markdown",
   "metadata": {},
   "source": [
    "Next, we can see how support vector machines perform in classifying the data. We first fit the model (ignore any warnings in this step):"
   ]
  },
  {
   "cell_type": "code",
   "execution_count": 22,
   "metadata": {},
   "outputs": [
    {
     "name": "stderr",
     "output_type": "stream",
     "text": [
      "/usr/lib/python3.6/site-packages/dislib-0.4.0-py3.6.egg/dislib/classification/csvm/base.py:374: RuntimeWarning: overflow encountered in exp\n",
      "  k = np.exp(k)\n",
      "/usr/lib/python3.6/site-packages/dislib-0.4.0-py3.6.egg/dislib/classification/csvm/base.py:342: RuntimeWarning: invalid value encountered in double_scalars\n",
      "  delta = np.abs((w - self._last_w) / self._last_w)\n"
     ]
    },
    {
     "data": {
      "text/plain": [
       "CascadeSVM(c=1, cascade_arity=2, check_convergence=True, gamma='auto',\n",
       "           kernel='rbf', max_iter=5, random_state=None, tol=0.001,\n",
       "           verbose=False)"
      ]
     },
     "execution_count": 22,
     "metadata": {},
     "output_type": "execute_result"
    }
   ],
   "source": [
    "from dislib.classification import CascadeSVM\n",
    "\n",
    "csvm = CascadeSVM()\n",
    "\n",
    "csvm.fit(x_train, y_train)"
   ]
  },
  {
   "cell_type": "markdown",
   "metadata": {},
   "source": [
    "and now we can make predictions on new data using `csvm.predict()`, or we can get the model accuracy on the test set with:"
   ]
  },
  {
   "cell_type": "code",
   "execution_count": 23,
   "metadata": {},
   "outputs": [],
   "source": [
    "score = csvm.score(x_test, y_test)"
   ]
  },
  {
   "cell_type": "markdown",
   "metadata": {},
   "source": [
    "`score` represents the classifier accuracy, however, it is returned as a `Future`. We need to synchronize to get the actual value:"
   ]
  },
  {
   "cell_type": "code",
   "execution_count": 24,
   "metadata": {},
   "outputs": [
    {
     "name": "stdout",
     "output_type": "stream",
     "text": [
      "0.6433566433566433\n"
     ]
    }
   ],
   "source": [
    "from pycompss.api.api import compss_wait_on\n",
    "\n",
    "print(compss_wait_on(score))"
   ]
  },
  {
   "cell_type": "markdown",
   "metadata": {},
   "source": [
    "The accuracy should be around 0.6, which is not very good. We can scale the data before classification to improve accuracy. This can be achieved using dislib's `StandardScaler`.\n",
    "\n",
    "The `StandardScaler` provides the same API as other estimators. In this case, however, instead of making predictions on new data, we transform it:"
   ]
  },
  {
   "cell_type": "code",
   "execution_count": 25,
   "metadata": {},
   "outputs": [],
   "source": [
    "from dislib.preprocessing import StandardScaler\n",
    "\n",
    "sc = StandardScaler()\n",
    "\n",
    "# fit the scaler with train data and transform it\n",
    "scaled_train = sc.fit_transform(x_train)\n",
    "\n",
    "# transform test data\n",
    "scaled_test = sc.transform(x_test)"
   ]
  },
  {
   "cell_type": "markdown",
   "metadata": {},
   "source": [
    "Now `scaled_train` and `scaled_test` are the scaled samples. Let's see how SVM perfroms now."
   ]
  },
  {
   "cell_type": "code",
   "execution_count": 26,
   "metadata": {},
   "outputs": [
    {
     "name": "stdout",
     "output_type": "stream",
     "text": [
      "0.965034965034965\n"
     ]
    }
   ],
   "source": [
    "csvm.fit(scaled_train, y_train)\n",
    "score = csvm.score(scaled_test, y_test)\n",
    "print(compss_wait_on(score))"
   ]
  },
  {
   "cell_type": "markdown",
   "metadata": {},
   "source": [
    "The new accuracy should be around 0.9, which is a great improvement!"
   ]
  },
  {
   "cell_type": "markdown",
   "metadata": {},
   "source": [
    "### Close the session\n",
    "\n",
    "To finish the session, we need to stop PyCOMPSs:"
   ]
  },
  {
   "cell_type": "code",
   "execution_count": 27,
   "metadata": {},
   "outputs": [
    {
     "name": "stdout",
     "output_type": "stream",
     "text": [
      "****************************************************\n",
      "*************** STOPPING PyCOMPSs ******************\n",
      "****************************************************\n",
      "Warning: some of the variables used with PyCOMPSs may\n",
      "         have not been brought to the master.\n",
      "****************************************************\n"
     ]
    }
   ],
   "source": [
    "ipycompss.stop()"
   ]
  }
 ],
 "metadata": {
  "kernelspec": {
   "display_name": "Python 3",
   "language": "python",
   "name": "python3"
  },
  "language_info": {
   "codemirror_mode": {
    "name": "ipython",
    "version": 3
   },
   "file_extension": ".py",
   "mimetype": "text/x-python",
   "name": "python",
   "nbconvert_exporter": "python",
   "pygments_lexer": "ipython3",
   "version": "3.6.9"
  }
 },
 "nbformat": 4,
 "nbformat_minor": 2
}
